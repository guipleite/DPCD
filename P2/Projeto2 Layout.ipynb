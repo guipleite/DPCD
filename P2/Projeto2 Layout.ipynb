{
 "cells": [
  {
   "cell_type": "markdown",
   "metadata": {},
   "source": [
    "___\n",
    "# Ciência dos Dados - PROJETO 2"
   ]
  },
  {
   "cell_type": "markdown",
   "metadata": {},
   "source": [
    "___\n",
    "## Guilherme Leite\n",
    "\n",
    "## Leonardo Neves\n",
    "\n",
    "___"
   ]
  },
  {
   "cell_type": "markdown",
   "metadata": {},
   "source": [
    "___\n",
    "\n",
    "## 1. Problema\n",
    "\n",
    "O Classificador Naive-Bayes, o qual se baseia no uso do teorema de Bayes, é largamente utilizado em filtros anti-spam de e-mails. O classificador permite calcular qual a probabilidade de uma mensagem ser SPAM considerando as palavras em seu conteúdo e, de forma complementar, permite calcular a probabilidade de uma mensagem ser HAM dada as palavras descritas na mensagem.\n",
    "\n",
    "Para realizar o MVP (minimum viable product) do projeto, você precisa programar uma versão do classificador que \"aprende\" o que é uma mensagem SPAM considerando uma base de treinamento e comparar o desempenho dos resultados com uma base de testes. \n"
   ]
  },
  {
   "cell_type": "markdown",
   "metadata": {},
   "source": [
    "___\n",
    "## 2. Separação da base de dados em Treinamento e Teste\n",
    "\n",
    "A base de dados deve ser separada em duas partes, aleatoriamente, considerando: \n",
    "    \n",
    "    75% dos dados para a parte Treinamento; e\n",
    "    25% dos dados para a parte Teste."
   ]
  },
  {
   "cell_type": "code",
   "execution_count": 1,
   "metadata": {
    "collapsed": true
   },
   "outputs": [],
   "source": [
    "import pandas as pd\n",
    "import os"
   ]
  },
  {
   "cell_type": "code",
   "execution_count": 2,
   "metadata": {},
   "outputs": [
    {
     "name": "stdout",
     "output_type": "stream",
     "text": [
      "Esperamos trabalhar no diretório\n",
      "C:\\Users\\Usuario\\Desktop\\Insper\\2018\\DPCD\\DPCD\\P2\n"
     ]
    }
   ],
   "source": [
    "print('Esperamos trabalhar no diretório')\n",
    "print(os.getcwd())"
   ]
  },
  {
   "cell_type": "code",
   "execution_count": 37,
   "metadata": {
    "collapsed": true
   },
   "outputs": [],
   "source": [
    "df = pd.read_excel('spamham.xlsx') #le o arquivo\n",
    "\n",
    "df = df.sample(frac=1) #Deixa o df em uma ordem aleatoria\n",
    "\n",
    "L = len(df)\n",
    "Learn = int(L*0.75) #tamanho do df de treinamento\n",
    "Test = int(L*0.25) # tamenho do df de teste\n",
    "\n",
    "dfLearn = df.iloc[0:Learn] #df de treinamento\n",
    "dfLearn = dfLearn.reset_index(drop=True)\n",
    "\n",
    "dfTest = df.iloc[Learn:L] #df de teste\n",
    "dfTest = dfTest.reset_index(drop=True)\n"
   ]
  },
  {
   "cell_type": "code",
   "execution_count": 50,
   "metadata": {},
   "outputs": [],
   "source": [
    "Ham = []\n",
    "Spam =[]\n",
    "NSpam = 0\n",
    "\n",
    "for index, row in dfLearn.iterrows(): #Percorre o df linha por linha\n",
    "    if row['Class'] == 'spam':\n",
    "        linha = row['Email']\n",
    "        Linha = linha.split() #Separa as palavras do conteúdo do email\n",
    "        NSpam +=1 #Adiciona +1 ao numero de emails de Spam\n",
    "        for palavra in Linha:\n",
    "            Hm = []\n",
    "            for letra in palavra:  #Separa as letras das palavras\n",
    "                if letra.isalpha() == True: # Se a letrea é alfabética:\n",
    "                    Hm.append(letra) \n",
    "            hm  = ''.join(Hm) #Junta as letras em palavra\n",
    "            if len(hm)>1: # Filtra palavras com menos de duas Letras\n",
    "                Spam.append(hm)\n",
    "    else:\n",
    "        linha = str(row['Email'])\n",
    "        Linha = linha.split()  #Separa as palavras do conteúdo do email\n",
    "        for palavra in Linha:\n",
    "            Hm = []\n",
    "            for letra in palavra:\n",
    "                if letra.isalpha() == True: # Se a letrea é alfabética:\n",
    "                    Hm.append(letra)\n",
    "            hm  = ''.join(Hm) #Junta as letras em palavra\n",
    "            if len(hm)>1: # Filtra palavras com menos de duas Letras\n",
    "                Ham.append(hm)"
   ]
  },
  {
   "cell_type": "code",
   "execution_count": 62,
   "metadata": {},
   "outputs": [
    {
     "name": "stdout",
     "output_type": "stream",
     "text": [
      "['You', 'have', 'won', 'cash', 'or', 'prize', 'To', 'claim', 'call', 'TC']\n"
     ]
    }
   ],
   "source": [
    "print(Spam[0:10])"
   ]
  },
  {
   "cell_type": "markdown",
   "metadata": {
    "collapsed": true
   },
   "source": []
  },
  {
   "cell_type": "markdown",
   "metadata": {},
   "source": [
    "___\n",
    "## 3. Classificador Naive-Bayes"
   ]
  },
  {
   "cell_type": "code",
   "execution_count": 61,
   "metadata": {},
   "outputs": [
    {
     "name": "stdout",
     "output_type": "stream",
     "text": [
      "Probabilidade de uma mensagem ser SPAM:  0.1368421052631579 \n",
      "Probabilidade de uma mensagem ser HAM:  0.8631578947368421\n"
     ]
    }
   ],
   "source": [
    "P_Spam = NSpam/len(dfLearn) #Probabilidade de uma mensagem ser SPAM \n",
    "P_Ham = 1-P_Spam #Probabilidade de uma mensagem ser HAM\n",
    "print('Probabilidade de uma mensagem ser SPAM: ',P_Spam, \n",
    "      '\\nProbabilidade de uma mensagem ser HAM: ',P_Ham)"
   ]
  },
  {
   "cell_type": "code",
   "execution_count": null,
   "metadata": {
    "collapsed": true
   },
   "outputs": [],
   "source": []
  },
  {
   "cell_type": "code",
   "execution_count": null,
   "metadata": {
    "collapsed": true
   },
   "outputs": [],
   "source": []
  },
  {
   "cell_type": "markdown",
   "metadata": {},
   "source": [
    "___\n",
    "## 4. Curva ROC"
   ]
  },
  {
   "cell_type": "code",
   "execution_count": null,
   "metadata": {
    "collapsed": true
   },
   "outputs": [],
   "source": []
  },
  {
   "cell_type": "code",
   "execution_count": null,
   "metadata": {
    "collapsed": true
   },
   "outputs": [],
   "source": []
  },
  {
   "cell_type": "code",
   "execution_count": null,
   "metadata": {
    "collapsed": true
   },
   "outputs": [],
   "source": []
  },
  {
   "cell_type": "markdown",
   "metadata": {},
   "source": [
    "___\n",
    "## 5. Qualidade do Classificador alterando a base de treinamento"
   ]
  },
  {
   "cell_type": "code",
   "execution_count": null,
   "metadata": {
    "collapsed": true
   },
   "outputs": [],
   "source": []
  },
  {
   "cell_type": "code",
   "execution_count": null,
   "metadata": {
    "collapsed": true
   },
   "outputs": [],
   "source": []
  },
  {
   "cell_type": "code",
   "execution_count": null,
   "metadata": {
    "collapsed": true
   },
   "outputs": [],
   "source": []
  },
  {
   "cell_type": "code",
   "execution_count": null,
   "metadata": {
    "collapsed": true
   },
   "outputs": [],
   "source": []
  }
 ],
 "metadata": {
  "anaconda-cloud": {},
  "kernelspec": {
   "display_name": "Python 3",
   "language": "python",
   "name": "python3"
  },
  "language_info": {
   "codemirror_mode": {
    "name": "ipython",
    "version": 3
   },
   "file_extension": ".py",
   "mimetype": "text/x-python",
   "name": "python",
   "nbconvert_exporter": "python",
   "pygments_lexer": "ipython3",
   "version": "3.6.0"
  }
 },
 "nbformat": 4,
 "nbformat_minor": 1
}
