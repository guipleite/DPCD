{
 "cells": [
  {
   "cell_type": "markdown",
   "metadata": {},
   "source": [
    "___\n",
    "# Ciência dos Dados - PROJETO 3 - INSPER"
   ]
  },
  {
   "cell_type": "markdown",
   "metadata": {},
   "source": [
    "___\n",
    "## Guilherme Leite\n",
    "\n",
    "## Gabriel Brey\n",
    "\n",
    "## Leonardo Neves\n",
    "\n",
    "___"
   ]
  },
  {
   "cell_type": "markdown",
   "metadata": {},
   "source": [
    "___\n",
    "\n",
    "## INTRODUÇÃO"
   ]
  },
  {
   "cell_type": "markdown",
   "metadata": {},
   "source": [
    "A indústria cinematográfica é umas das maiores do mercado de entretenimento, movimentando bilhões de dólares anualmente, e assim gerando i um grande risco financeiro, com alguns filmes recentes com orçamentos de até 400 milhões de dólares. Esse risco poderia ser reduzido até certo ponto com o uso de um modelo quantitativo.\n",
    "\n",
    "O objetivo do projeto é estimar o rendimento de um filme em relação a época do ano que é lançado e seu orçamento, assim tendo o intuito de fazer um modelo de predição com variáveis que geralmente já são conhecidas antes da estreia do filme.\n",
    "\n",
    "A base de dados contém informações de aproximadamente 5000 filmes do site TMDB, que concentra vários dados sobre a produção, gênero, entre outros de peças cinematográficas.\n"
   ]
  },
  {
   "cell_type": "markdown",
   "metadata": {},
   "source": [
    "___\n",
    "## MINERANDO DADOS e CARACTERÍSTICAS DO DATASET"
   ]
  },
  {
   "cell_type": "markdown",
   "metadata": {},
   "source": [
    "Os dados coletados que serão utilizados são : o revenue, budget , release date ,popularity ,vote_count e vote_average. O revenue se refere a quanto o filme faturou em todo o mundo em dólares americanos, o budget é referente ao orçamento do filme, também em dólares americanos, o release date é a data de lançamento mundial no formato dia/mês/ano , a popularity é referente ao número de pessoas que foram assistir o filme , vote_count é referente ao total de vezes em que o filme foi votado no TMDB e o vote_average é a nota media atribuída ao filme no site ."
   ]
  },
  {
   "cell_type": "code",
   "execution_count": 37,
   "metadata": {},
   "outputs": [],
   "source": [
    "import pandas as pd\n",
    "import os\n",
    "import matplotlib.pyplot as plt\n",
    "import seaborn as sns\n",
    "import numpy as np\n"
   ]
  },
  {
   "cell_type": "code",
   "execution_count": 38,
   "metadata": {},
   "outputs": [
    {
     "name": "stdout",
     "output_type": "stream",
     "text": [
      "Esperamos trabalhar no diretório\n",
      "C:\\Users\\Usuario\\Desktop\\Insper\\2018\\DPCD\\DPCD\\Projeto3\n"
     ]
    }
   ],
   "source": [
    "print('Esperamos trabalhar no diretório')\n",
    "print(os.getcwd())"
   ]
  },
  {
   "cell_type": "markdown",
   "metadata": {},
   "source": [
    "### BASE DE DADOS"
   ]
  },
  {
   "cell_type": "code",
   "execution_count": 39,
   "metadata": {},
   "outputs": [
    {
     "data": {
      "text/html": [
       "<div>\n",
       "<style scoped>\n",
       "    .dataframe tbody tr th:only-of-type {\n",
       "        vertical-align: middle;\n",
       "    }\n",
       "\n",
       "    .dataframe tbody tr th {\n",
       "        vertical-align: top;\n",
       "    }\n",
       "\n",
       "    .dataframe thead th {\n",
       "        text-align: right;\n",
       "    }\n",
       "</style>\n",
       "<table border=\"1\" class=\"dataframe\">\n",
       "  <thead>\n",
       "    <tr style=\"text-align: right;\">\n",
       "      <th></th>\n",
       "      <th>revenue</th>\n",
       "      <th>budget</th>\n",
       "      <th>release_date</th>\n",
       "      <th>vote_count</th>\n",
       "      <th>popularity</th>\n",
       "      <th>vote_average</th>\n",
       "    </tr>\n",
       "  </thead>\n",
       "  <tbody>\n",
       "    <tr>\n",
       "      <th>0</th>\n",
       "      <td>2787965087</td>\n",
       "      <td>237000000</td>\n",
       "      <td>2009-12-10</td>\n",
       "      <td>11800</td>\n",
       "      <td>150.437577</td>\n",
       "      <td>7.2</td>\n",
       "    </tr>\n",
       "    <tr>\n",
       "      <th>1</th>\n",
       "      <td>961000000</td>\n",
       "      <td>300000000</td>\n",
       "      <td>2007-05-19</td>\n",
       "      <td>4500</td>\n",
       "      <td>139.082615</td>\n",
       "      <td>6.9</td>\n",
       "    </tr>\n",
       "    <tr>\n",
       "      <th>2</th>\n",
       "      <td>880674609</td>\n",
       "      <td>245000000</td>\n",
       "      <td>2015-10-26</td>\n",
       "      <td>4466</td>\n",
       "      <td>107.376788</td>\n",
       "      <td>6.3</td>\n",
       "    </tr>\n",
       "    <tr>\n",
       "      <th>3</th>\n",
       "      <td>1084939099</td>\n",
       "      <td>250000000</td>\n",
       "      <td>2012-07-16</td>\n",
       "      <td>9106</td>\n",
       "      <td>112.312950</td>\n",
       "      <td>7.6</td>\n",
       "    </tr>\n",
       "    <tr>\n",
       "      <th>4</th>\n",
       "      <td>284139100</td>\n",
       "      <td>260000000</td>\n",
       "      <td>2012-03-07</td>\n",
       "      <td>2124</td>\n",
       "      <td>43.926995</td>\n",
       "      <td>6.1</td>\n",
       "    </tr>\n",
       "  </tbody>\n",
       "</table>\n",
       "</div>"
      ],
      "text/plain": [
       "      revenue     budget release_date  vote_count  popularity  vote_average\n",
       "0  2787965087  237000000   2009-12-10       11800  150.437577           7.2\n",
       "1   961000000  300000000   2007-05-19        4500  139.082615           6.9\n",
       "2   880674609  245000000   2015-10-26        4466  107.376788           6.3\n",
       "3  1084939099  250000000   2012-07-16        9106  112.312950           7.6\n",
       "4   284139100  260000000   2012-03-07        2124   43.926995           6.1"
      ]
     },
     "execution_count": 39,
     "metadata": {},
     "output_type": "execute_result"
    }
   ],
   "source": [
    "tmdb = pd.read_csv('tmdb_5000_movies.csv', encoding='latin1')#Abre o dataframe inteiro\n",
    "\n",
    "data = tmdb[['revenue','budget','release_date','vote_count','popularity','vote_average']]#Separa as colunas\n",
    "data = data[~(data == 0).any(axis=1)] #remove filmes que tenham, algum dos dados igual a 0\n",
    "nndf = data[pd.notnull(data.revenue)&pd.notnull(data.budget)]#Tira os \"NaN\" do df\n",
    "nndf = nndf.reset_index(drop=True)#Reseta o index dos filmes\n",
    "nndf.head()\n"
   ]
  },
  {
   "cell_type": "code",
   "execution_count": 40,
   "metadata": {},
   "outputs": [
    {
     "name": "stderr",
     "output_type": "stream",
     "text": [
      "C:\\ProgramData\\Anaconda3\\lib\\site-packages\\ipykernel_launcher.py:4: SettingWithCopyWarning: \n",
      "A value is trying to be set on a copy of a slice from a DataFrame\n",
      "\n",
      "See the caveats in the documentation: http://pandas.pydata.org/pandas-docs/stable/indexing.html#indexing-view-versus-copy\n",
      "  after removing the cwd from sys.path.\n"
     ]
    }
   ],
   "source": [
    "for i in range (len(nndf)): #Deixa a data de lançamento como só o mes envez de DD/MM/YYYY\n",
    "    Str = str(nndf.release_date[i])\t\n",
    "    SStr = Str.split('-')\n",
    "    nndf.release_date[i] = SStr[1]"
   ]
  },
  {
   "cell_type": "markdown",
   "metadata": {},
   "source": [
    "### ANÁLISE DESCRITIVA"
   ]
  },
  {
   "cell_type": "code",
   "execution_count": 41,
   "metadata": {},
   "outputs": [
    {
     "data": {
      "image/png": "[encoded data removed]",
      "text/plain": [
       "<matplotlib.figure.Figure at 0x1aab6c345f8>"
      ]
     },
     "metadata": {},
     "output_type": "display_data"
    }
   ],
   "source": [
    "ut15 = (nndf.release_date.value_counts(sort=False, normalize=True)*100)\n",
    "a4_dims = (10, 6)\n",
    "plot = ut15.plot(kind='pie',title = \"Distribuição dos Lançamentos de Filmes\",autopct='%.1f')"
   ]
  },
  {
   "cell_type": "markdown",
   "metadata": {},
   "source": [
    "Este gráfico demonstra como a distribuição dos lançamentos é semelhante entre os meses, mostrando que não existe uma grande preferência pela data de lançamento dos filmes"
   ]
  },
  {
   "cell_type": "code",
   "execution_count": 42,
   "metadata": {},
   "outputs": [
    {
     "data": {
      "image/png": "[encoded data removed]",
      "text/plain": [
       "<matplotlib.figure.Figure at 0x1aab70edf28>"
      ]
     },
     "metadata": {},
     "output_type": "display_data"
    }
   ],
   "source": [
    "sns.set(style=\"whitegrid\", color_codes=True)\n",
    "fig, ax = plt.subplots(figsize=a4_dims)\n",
    "plt.title('Rendimentos e Médias por Mês de Lançamento', fontsize=16)\n",
    "sns.set_context(\"talk\")\n",
    "sns.stripplot(x=\"release_date\", y=\"revenue\", data=nndf, jitter=True);\n",
    "\n",
    "X2  = ['01','02','03','04','05','06','07','08','09','10','11','12',]#ordena os meses\n",
    "#média de cada mês\n",
    "Y2 = [nndf.loc[nndf['release_date'] == '01'].mean()[0],nndf.loc[nndf['release_date'] == '02'].mean()[0],\n",
    "nndf.loc[nndf['release_date'] == '03'].mean()[0],nndf.loc[nndf['release_date'] == '04'].mean()[0],\n",
    "nndf.loc[nndf['release_date'] == '05'].mean()[0],nndf.loc[nndf['release_date'] == '06'].mean()[0],\n",
    "nndf.loc[nndf['release_date'] == '07'].mean()[0],nndf.loc[nndf['release_date'] == '08'].mean()[0],\n",
    "nndf.loc[nndf['release_date'] == '09'].mean()[0],nndf.loc[nndf['release_date'] == '10'].mean()[0],\n",
    "nndf.loc[nndf['release_date'] == '11'].mean()[0],nndf.loc[nndf['release_date'] == '12'].mean()[0]]\n",
    "plt.plot(X2,Y2)\n",
    "\n",
    "plt.show() "
   ]
  },
  {
   "cell_type": "markdown",
   "metadata": {},
   "source": [
    "Os gráficos acima mostram como o revenue dos filmes ocorre nos meses do ano, é possível perceber que os meses de Maio, Junho , Julho, Novembro tem um maior rendimento médio, enquanto Janeiro e Setembro tem rendimento menor."
   ]
  },
  {
   "cell_type": "code",
   "execution_count": 43,
   "metadata": {},
   "outputs": [
    {
     "data": {
      "image/png": "[encoded data removed]",
      "text/plain": [
       "<matplotlib.figure.Figure at 0x1aab70fb9b0>"
      ]
     },
     "metadata": {},
     "output_type": "display_data"
    }
   ],
   "source": [
    "plt.plot(nndf['budget'],nndf['revenue'],'ro')\n",
    "plt.title('Revenue x Budget')\n",
    "plt.show()"
   ]
  },
  {
   "cell_type": "code",
   "execution_count": 44,
   "metadata": {},
   "outputs": [
    {
     "data": {
      "image/png": "[encoded data removed]",
      "text/plain": [
       "<matplotlib.figure.Figure at 0x1aab69b6d68>"
      ]
     },
     "metadata": {},
     "output_type": "display_data"
    }
   ],
   "source": [
    "plt.plot(nndf['popularity'],nndf['revenue'],'ro')\n",
    "plt.title('Popularity x Revenue')\n",
    "plt.show()"
   ]
  },
  {
   "cell_type": "code",
   "execution_count": 45,
   "metadata": {},
   "outputs": [
    {
     "data": {
      "image/png": "[encoded data removed]",
      "text/plain": [
       "<matplotlib.figure.Figure at 0x1aab687cac8>"
      ]
     },
     "metadata": {},
     "output_type": "display_data"
    }
   ],
   "source": [
    "plt.plot(nndf['revenue'],nndf['vote_count'],'ro')\n",
    "plt.title('Vote_count x Revenue')\n",
    "plt.show()"
   ]
  },
  {
   "cell_type": "markdown",
   "metadata": {},
   "source": [
    "Como é possível perber pelo gráfico, existe algum tipo de relação linear entre o Budget e o Revenue dos filmes"
   ]
  },
  {
   "cell_type": "markdown",
   "metadata": {},
   "source": [
    "Ao observar os scatter plots notamos duas fortes correlações das variáveis Budget x Revenue e  Vote_count x Revenue e uma fraca correlação positiva do Reveneu x Popularity.\n",
    "Assim optamos por escolher a variável Budget juntamente com a variável release date para fazer os nossos modelos de predição, uma vez que o vote_count só pode ser obtido após a estreia do filme.\n"
   ]
  },
  {
   "cell_type": "markdown",
   "metadata": {},
   "source": [
    "___\n",
    "## MODELOS DE PREDIÇÃO"
   ]
  },
  {
   "cell_type": "markdown",
   "metadata": {
    "collapsed": true
   },
   "source": [
    "[O tópico C.PROCESSO E ESTATÍSTICAS DE VALIDAÇÃO estará dentro deste tópico. Organize-o aqui de forma clara!]\n",
    "\n",
    "[ORGANIZE AQUI TODOS OS MODELOS DE PREDIÇÃO NECESSÁRIOS NESTE PROJETO!]"
   ]
  },
  {
   "cell_type": "code",
   "execution_count": 60,
   "metadata": {},
   "outputs": [],
   "source": [
    "x = len (nndf)\n",
    "nndf.sample(frac=1)# Aleatoriza o index de cada filme\n",
    "DfTrain = nndf.iloc[:int(0.75*x)]# separa os filmes de 75% primeiros filmes como Treinamento\n",
    "DfTrain = DfTrain.reset_index(drop=True)#Reseta o index dos filmes\n",
    "DfTest = nndf.iloc[int(0.75*x):]# separa os filmes de 25% últimos filmes como Teste\n",
    "DfTest = DfTest.reset_index(drop=True)#Reseta o index dos filmes"
   ]
  },
  {
   "cell_type": "markdown",
   "metadata": {},
   "source": [
    "Como os dataframes para teste e treinamento foram aleatoriamente separados, eles serão mais semelhantes, assim tornarão o modelo de predição mais preciso."
   ]
  },
  {
   "cell_type": "code",
   "execution_count": 47,
   "metadata": {},
   "outputs": [],
   "source": [
    "import numpy as np\n",
    "import statsmodels.api as sm\n",
    "\n",
    "X = DfTrain[['release_date','budget']].round(0).astype(int)\n",
    "X = X.values.reshape((len(X),2))\n",
    "Y = DfTrain['revenue'].round(0).astype(int)\n",
    "Y = Y.values.reshape((len(Y),1))\n",
    "\n",
    "XTest = DfTest[['release_date','budget']].round(0).astype(int)\n",
    "XTest = XTest.values.reshape((len(XTest),2))\n",
    "YTest = DfTest['revenue'].round(0).astype(int)\n",
    "YTest = YTest.values.reshape((len(YTest),1))"
   ]
  },
  {
   "cell_type": "markdown",
   "metadata": {},
   "source": [
    "#### R2 e RMS"
   ]
  },
  {
   "cell_type": "markdown",
   "metadata": {},
   "source": [
    "R2 , é um número entre 0 e 1 , ele conta como a regressão se encaixa no data set, assim podemos dizer que o R2 retorna o valor até certo ponto em que a variável-x pode ser usada para predizer os valores da variável Y. No caso do nosso modelo , o R2 nos conta o a qualidade da predição do revenue pelo sua data de lançamento .\n",
    "\n",
    "\n",
    "EXPLICAR RMS"
   ]
  },
  {
   "cell_type": "markdown",
   "metadata": {},
   "source": [
    "#### Overfitting  e Underfitting "
   ]
  },
  {
   "cell_type": "markdown",
   "metadata": {},
   "source": [
    "Overfitting e underfitting são grandes causadores de má performance em modelos de predição, o overfitting se dá quando o algoritmo se molda aos dados da base de treinamento de forma que quando são inseridos novos dados ao model ele tem performance reduzida. E o underfitting acontece quando o modelo não bom suficiente para os dados de treinamento nem para novos dados.\n"
   ]
  },
  {
   "cell_type": "markdown",
   "metadata": {},
   "source": [
    "#### Predição pela media "
   ]
  },
  {
   "cell_type": "markdown",
   "metadata": {},
   "source": [
    "EXPLICAR"
   ]
  },
  {
   "cell_type": "code",
   "execution_count": 48,
   "metadata": {},
   "outputs": [
    {
     "name": "stdout",
     "output_type": "stream",
     "text": [
      "Média total:  151824958.12396693\n",
      "R2 é igual a zero uma vez que fi é igual a media de y: 1 - ((yi-fi)/(yi-yb)) = 0\n",
      "RMS da Predição pela média: 199602533.76254264\n"
     ]
    }
   ],
   "source": [
    "y = DfTrain['revenue'].round(0).astype(int)\n",
    "yhat = DfTrain.revenue.mean()                   \n",
    "ssreg = np.sum((y-yhat)**2)\n",
    "RMS = np.sqrt(ssreg/len(y))\n",
    "\n",
    "print(\"Média total: \",yhat)\n",
    "print(\"R2 é igual a zero uma vez que fi é igual a media de y: 1 - ((yi-fi)/(yi-yb)) = 0\")\n",
    "print(\"RMS da Predição pela média:\", RMS)"
   ]
  },
  {
   "cell_type": "markdown",
   "metadata": {},
   "source": [
    "#### MODELO DE REGRESSÃO LINEAR ( ordinary least squares):"
   ]
  },
  {
   "cell_type": "markdown",
   "metadata": {},
   "source": [
    "EXPLICAR"
   ]
  },
  {
   "cell_type": "code",
   "execution_count": 49,
   "metadata": {},
   "outputs": [
    {
     "data": {
      "text/html": [
       "<table class=\"simpletable\">\n",
       "<caption>OLS Regression Results</caption>\n",
       "<tr>\n",
       "  <th>Dep. Variable:</th>            <td>y</td>        <th>  R-squared:         </th> <td>   0.438</td> \n",
       "</tr>\n",
       "<tr>\n",
       "  <th>Model:</th>                   <td>OLS</td>       <th>  Adj. R-squared:    </th> <td>   0.438</td> \n",
       "</tr>\n",
       "<tr>\n",
       "  <th>Method:</th>             <td>Least Squares</td>  <th>  F-statistic:       </th> <td>   943.5</td> \n",
       "</tr>\n",
       "<tr>\n",
       "  <th>Date:</th>             <td>Tue, 05 Jun 2018</td> <th>  Prob (F-statistic):</th> <td>1.47e-303</td>\n",
       "</tr>\n",
       "<tr>\n",
       "  <th>Time:</th>                 <td>20:49:45</td>     <th>  Log-Likelihood:    </th> <td> -48986.</td> \n",
       "</tr>\n",
       "<tr>\n",
       "  <th>No. Observations:</th>      <td>  2420</td>      <th>  AIC:               </th> <td>9.798e+04</td>\n",
       "</tr>\n",
       "<tr>\n",
       "  <th>Df Residuals:</th>          <td>  2417</td>      <th>  BIC:               </th> <td>9.800e+04</td>\n",
       "</tr>\n",
       "<tr>\n",
       "  <th>Df Model:</th>              <td>     2</td>      <th>                     </th>     <td> </td>    \n",
       "</tr>\n",
       "<tr>\n",
       "  <th>Covariance Type:</th>      <td>nonrobust</td>    <th>                     </th>     <td> </td>    \n",
       "</tr>\n",
       "</table>\n",
       "<table class=\"simpletable\">\n",
       "<tr>\n",
       "    <td></td>       <th>coef</th>     <th>std err</th>      <th>t</th>      <th>P>|t|</th>  <th>[0.025</th>    <th>0.975]</th>  \n",
       "</tr>\n",
       "<tr>\n",
       "  <th>const</th> <td>-9.066e+06</td> <td> 7.84e+06</td> <td>   -1.157</td> <td> 0.248</td> <td>-2.44e+07</td> <td> 6.31e+06</td>\n",
       "</tr>\n",
       "<tr>\n",
       "  <th>x1</th>    <td> 9.305e+05</td> <td> 8.99e+05</td> <td>    1.035</td> <td> 0.301</td> <td>-8.33e+05</td> <td> 2.69e+06</td>\n",
       "</tr>\n",
       "<tr>\n",
       "  <th>x2</th>    <td>    2.9086</td> <td>    0.067</td> <td>   43.421</td> <td> 0.000</td> <td>    2.777</td> <td>    3.040</td>\n",
       "</tr>\n",
       "</table>\n",
       "<table class=\"simpletable\">\n",
       "<tr>\n",
       "  <th>Omnibus:</th>       <td>824.944</td> <th>  Durbin-Watson:     </th> <td>   1.504</td> \n",
       "</tr>\n",
       "<tr>\n",
       "  <th>Prob(Omnibus):</th> <td> 0.000</td>  <th>  Jarque-Bera (JB):  </th> <td>77619.298</td>\n",
       "</tr>\n",
       "<tr>\n",
       "  <th>Skew:</th>          <td> 0.637</td>  <th>  Prob(JB):          </th> <td>    0.00</td> \n",
       "</tr>\n",
       "<tr>\n",
       "  <th>Kurtosis:</th>      <td>30.716</td>  <th>  Cond. No.          </th> <td>1.80e+08</td> \n",
       "</tr>\n",
       "</table>"
      ],
      "text/plain": [
       "<class 'statsmodels.iolib.summary.Summary'>\n",
       "\"\"\"\n",
       "                            OLS Regression Results                            \n",
       "==============================================================================\n",
       "Dep. Variable:                      y   R-squared:                       0.438\n",
       "Model:                            OLS   Adj. R-squared:                  0.438\n",
       "Method:                 Least Squares   F-statistic:                     943.5\n",
       "Date:                Tue, 05 Jun 2018   Prob (F-statistic):          1.47e-303\n",
       "Time:                        20:49:45   Log-Likelihood:                -48986.\n",
       "No. Observations:                2420   AIC:                         9.798e+04\n",
       "Df Residuals:                    2417   BIC:                         9.800e+04\n",
       "Df Model:                           2                                         \n",
       "Covariance Type:            nonrobust                                         \n",
       "==============================================================================\n",
       "                 coef    std err          t      P>|t|      [0.025      0.975]\n",
       "------------------------------------------------------------------------------\n",
       "const      -9.066e+06   7.84e+06     -1.157      0.248   -2.44e+07    6.31e+06\n",
       "x1          9.305e+05   8.99e+05      1.035      0.301   -8.33e+05    2.69e+06\n",
       "x2             2.9086      0.067     43.421      0.000       2.777       3.040\n",
       "==============================================================================\n",
       "Omnibus:                      824.944   Durbin-Watson:                   1.504\n",
       "Prob(Omnibus):                  0.000   Jarque-Bera (JB):            77619.298\n",
       "Skew:                           0.637   Prob(JB):                         0.00\n",
       "Kurtosis:                      30.716   Cond. No.                     1.80e+08\n",
       "==============================================================================\n",
       "\n",
       "Warnings:\n",
       "[1] Standard Errors assume that the covariance matrix of the errors is correctly specified.\n",
       "[2] The condition number is large, 1.8e+08. This might indicate that there are\n",
       "strong multicollinearity or other numerical problems.\n",
       "\"\"\""
      ]
     },
     "execution_count": 49,
     "metadata": {},
     "output_type": "execute_result"
    }
   ],
   "source": [
    "X = sm.add_constant(X)\n",
    "model = sm.OLS(Y,X).fit() \n",
    "Ypredictions = model.predict(X)\n",
    "model.summary()"
   ]
  },
  {
   "cell_type": "code",
   "execution_count": 50,
   "metadata": {},
   "outputs": [
    {
     "name": "stdout",
     "output_type": "stream",
     "text": [
      "RMS do Teste: 149573893.2841234\n",
      "R2 do Treinamento:  0.4384171544993586\n"
     ]
    }
   ],
   "source": [
    "y = DfTrain['revenue'].round(0).astype(int)\n",
    "ybar = y.mean()\n",
    "yhat = Ypredictions                   \n",
    "ssreg = np.sum((y-yhat)**2)   \n",
    "sstot = np.sum((y - ybar)**2)    \n",
    "r2Train1 = 1-( ssreg / sstot)\n",
    "RMSTrain1 = np.sqrt(ssreg/len(y))\n",
    "print(\"RMS do Teste:\",RMSTrain1)\n",
    "print(\"R2 do Treinamento: \",r2Train1)"
   ]
  },
  {
   "cell_type": "code",
   "execution_count": 51,
   "metadata": {
    "scrolled": true
   },
   "outputs": [],
   "source": [
    "XTest = sm.add_constant(XTest)\n",
    "YTestpredictions = model.predict(XTest) # cria um array com as predições para a base de teste com o \n",
    "                                        # modelo da base de treinamento"
   ]
  },
  {
   "cell_type": "code",
   "execution_count": 52,
   "metadata": {},
   "outputs": [
    {
     "name": "stdout",
     "output_type": "stream",
     "text": [
      "RMS do Teste: 57215053.35678464\n",
      "R2 do Teste:  -0.10478177748993689\n"
     ]
    }
   ],
   "source": [
    "y = DfTest['revenue'].round(0).astype(int)\n",
    "ybar = y.mean()\n",
    "yhat = YTestpredictions                   \n",
    "ssreg = np.sum((y-yhat)**2)   \n",
    "sstot = np.sum((y - ybar)**2)  \n",
    "RMSTest1 = np.sqrt(ssreg/len(y))\n",
    "r2Test1 = 1-( ssreg / sstot)\n",
    "print(\"RMS do Teste:\",RMSTest1)\n",
    "print(\"R2 do Teste: \",r2Test1)"
   ]
  },
  {
   "cell_type": "code",
   "execution_count": 53,
   "metadata": {},
   "outputs": [
    {
     "name": "stdout",
     "output_type": "stream",
     "text": [
      "RMS do Treinamento/RMS do Teste =  2.614240213172618\n",
      "R2 do Treinamento/R2 do Teste =  -4.184097321134523\n"
     ]
    }
   ],
   "source": [
    "print(\"RMS do Treinamento/RMS do Teste = \",RMSTrain1/RMSTest1)\n",
    "print(\"R2 do Treinamento/R2 do Teste = \",r2Train1/r2Test1)"
   ]
  },
  {
   "cell_type": "markdown",
   "metadata": {},
   "source": [
    "Com os valores de RMS e R2 obtidos para o modelo, pode se chegar na conclusão de que ele sofre de underfitting, uma vez que o R2 para a base de treinamento é menor que 0,5 e o RMS é relativamente grande, portanto o modelo não prevê de maneira aceitável os dados de treinamento nem os de teste. Dessa forma o modelo não tem utilidade no mundo real.\n",
    "\n",
    "Outra observação foi o valor t retornado pela regressão, que aponta que a release_date não influencia muito no resultado, dessa forma será feita uma nova regressão sem essa variável.\n"
   ]
  },
  {
   "cell_type": "markdown",
   "metadata": {},
   "source": [
    "#### MODELO DE REGRESSÃO LINEAR sem o release_date"
   ]
  },
  {
   "cell_type": "code",
   "execution_count": 54,
   "metadata": {},
   "outputs": [],
   "source": [
    "X = DfTrain['budget'].round(0).astype(int)\n",
    "X = X.values.reshape((len(X),1))\n",
    "Y = DfTrain['revenue'].round(0).astype(int)\n",
    "Y = Y.values.reshape((len(Y),1))\n",
    "\n",
    "XTest = DfTest['budget'].round(0).astype(int)\n",
    "XTest = XTest.values.reshape((len(XTest),1))\n",
    "YTest = DfTest['revenue'].round(0).astype(int)\n",
    "YTest = YTest.values.reshape((len(YTest),1))"
   ]
  },
  {
   "cell_type": "code",
   "execution_count": 55,
   "metadata": {},
   "outputs": [
    {
     "data": {
      "text/html": [
       "<table class=\"simpletable\">\n",
       "<caption>OLS Regression Results</caption>\n",
       "<tr>\n",
       "  <th>Dep. Variable:</th>            <td>y</td>        <th>  R-squared:         </th> <td>   0.438</td> \n",
       "</tr>\n",
       "<tr>\n",
       "  <th>Model:</th>                   <td>OLS</td>       <th>  Adj. R-squared:    </th> <td>   0.438</td> \n",
       "</tr>\n",
       "<tr>\n",
       "  <th>Method:</th>             <td>Least Squares</td>  <th>  F-statistic:       </th> <td>   1886.</td> \n",
       "</tr>\n",
       "<tr>\n",
       "  <th>Date:</th>             <td>Tue, 05 Jun 2018</td> <th>  Prob (F-statistic):</th> <td>4.60e-305</td>\n",
       "</tr>\n",
       "<tr>\n",
       "  <th>Time:</th>                 <td>20:49:45</td>     <th>  Log-Likelihood:    </th> <td> -48987.</td> \n",
       "</tr>\n",
       "<tr>\n",
       "  <th>No. Observations:</th>      <td>  2420</td>      <th>  AIC:               </th> <td>9.798e+04</td>\n",
       "</tr>\n",
       "<tr>\n",
       "  <th>Df Residuals:</th>          <td>  2418</td>      <th>  BIC:               </th> <td>9.799e+04</td>\n",
       "</tr>\n",
       "<tr>\n",
       "  <th>Df Model:</th>              <td>     1</td>      <th>                     </th>     <td> </td>    \n",
       "</tr>\n",
       "<tr>\n",
       "  <th>Covariance Type:</th>      <td>nonrobust</td>    <th>                     </th>     <td> </td>    \n",
       "</tr>\n",
       "</table>\n",
       "<table class=\"simpletable\">\n",
       "<tr>\n",
       "    <td></td>       <th>coef</th>     <th>std err</th>      <th>t</th>      <th>P>|t|</th>  <th>[0.025</th>    <th>0.975]</th>  \n",
       "</tr>\n",
       "<tr>\n",
       "  <th>const</th> <td>-2.534e+06</td> <td> 4.65e+06</td> <td>   -0.545</td> <td> 0.586</td> <td>-1.16e+07</td> <td> 6.58e+06</td>\n",
       "</tr>\n",
       "<tr>\n",
       "  <th>x1</th>    <td>    2.9089</td> <td>    0.067</td> <td>   43.426</td> <td> 0.000</td> <td>    2.778</td> <td>    3.040</td>\n",
       "</tr>\n",
       "</table>\n",
       "<table class=\"simpletable\">\n",
       "<tr>\n",
       "  <th>Omnibus:</th>       <td>826.431</td> <th>  Durbin-Watson:     </th> <td>   1.503</td> \n",
       "</tr>\n",
       "<tr>\n",
       "  <th>Prob(Omnibus):</th> <td> 0.000</td>  <th>  Jarque-Bera (JB):  </th> <td>76640.829</td>\n",
       "</tr>\n",
       "<tr>\n",
       "  <th>Skew:</th>          <td> 0.645</td>  <th>  Prob(JB):          </th> <td>    0.00</td> \n",
       "</tr>\n",
       "<tr>\n",
       "  <th>Kurtosis:</th>      <td>30.539</td>  <th>  Cond. No.          </th> <td>1.06e+08</td> \n",
       "</tr>\n",
       "</table>"
      ],
      "text/plain": [
       "<class 'statsmodels.iolib.summary.Summary'>\n",
       "\"\"\"\n",
       "                            OLS Regression Results                            \n",
       "==============================================================================\n",
       "Dep. Variable:                      y   R-squared:                       0.438\n",
       "Model:                            OLS   Adj. R-squared:                  0.438\n",
       "Method:                 Least Squares   F-statistic:                     1886.\n",
       "Date:                Tue, 05 Jun 2018   Prob (F-statistic):          4.60e-305\n",
       "Time:                        20:49:45   Log-Likelihood:                -48987.\n",
       "No. Observations:                2420   AIC:                         9.798e+04\n",
       "Df Residuals:                    2418   BIC:                         9.799e+04\n",
       "Df Model:                           1                                         \n",
       "Covariance Type:            nonrobust                                         \n",
       "==============================================================================\n",
       "                 coef    std err          t      P>|t|      [0.025      0.975]\n",
       "------------------------------------------------------------------------------\n",
       "const      -2.534e+06   4.65e+06     -0.545      0.586   -1.16e+07    6.58e+06\n",
       "x1             2.9089      0.067     43.426      0.000       2.778       3.040\n",
       "==============================================================================\n",
       "Omnibus:                      826.431   Durbin-Watson:                   1.503\n",
       "Prob(Omnibus):                  0.000   Jarque-Bera (JB):            76640.829\n",
       "Skew:                           0.645   Prob(JB):                         0.00\n",
       "Kurtosis:                      30.539   Cond. No.                     1.06e+08\n",
       "==============================================================================\n",
       "\n",
       "Warnings:\n",
       "[1] Standard Errors assume that the covariance matrix of the errors is correctly specified.\n",
       "[2] The condition number is large, 1.06e+08. This might indicate that there are\n",
       "strong multicollinearity or other numerical problems.\n",
       "\"\"\""
      ]
     },
     "execution_count": 55,
     "metadata": {},
     "output_type": "execute_result"
    }
   ],
   "source": [
    "X = sm.add_constant(X)\n",
    "model = sm.OLS(Y,X).fit() \n",
    "Ypredictions = model.predict(X)\n",
    "model.summary()"
   ]
  },
  {
   "cell_type": "code",
   "execution_count": 56,
   "metadata": {},
   "outputs": [
    {
     "name": "stdout",
     "output_type": "stream",
     "text": [
      "RMS do Teste: 149607021.52607664\n",
      "R2 do Treinamento:  0.4381683635874256\n"
     ]
    }
   ],
   "source": [
    "y = DfTrain['revenue'].round(0).astype(int)\n",
    "ybar = y.mean()\n",
    "yhat = Ypredictions                   \n",
    "ssreg = np.sum((y-yhat)**2)   \n",
    "sstot = np.sum((y - ybar)**2)    \n",
    "r2Train2 = 1-( ssreg / sstot)\n",
    "RMSTrain2 = np.sqrt(ssreg/len(y))\n",
    "print(\"RMS do Teste:\",RMSTrain2)\n",
    "print(\"R2 do Treinamento: \",r2Train2)"
   ]
  },
  {
   "cell_type": "code",
   "execution_count": 57,
   "metadata": {},
   "outputs": [],
   "source": [
    "XTest = sm.add_constant(XTest)\n",
    "YTestpredictions = model.predict(XTest) # cria um array com as predições para a base de teste com o \n",
    "                                        # modelo da base de treinamento"
   ]
  },
  {
   "cell_type": "code",
   "execution_count": 58,
   "metadata": {},
   "outputs": [
    {
     "name": "stdout",
     "output_type": "stream",
     "text": [
      "RMS do Teste: 57180172.2966409\n",
      "R2 do Teste:  -0.10343513143527283\n"
     ]
    }
   ],
   "source": [
    "y = DfTest['revenue'].round(0).astype(int)\n",
    "ybar = y.mean()\n",
    "yhat = YTestpredictions                   \n",
    "ssreg = np.sum((y-yhat)**2)   \n",
    "sstot = np.sum((y - ybar)**2)  \n",
    "RMSTest2 = np.sqrt(ssreg/len(y))\n",
    "r2Test2 = 1-( ssreg / sstot)\n",
    "print(\"RMS do Teste:\",RMSTest2)\n",
    "print(\"R2 do Teste: \",r2Test2)"
   ]
  },
  {
   "cell_type": "code",
   "execution_count": 59,
   "metadata": {},
   "outputs": [
    {
     "name": "stdout",
     "output_type": "stream",
     "text": [
      "RMS do Treinamento/RMS do Teste =  2.616414318409905\n",
      "R2 do Treinamento/R2 do Teste =  -4.236165773730569\n"
     ]
    }
   ],
   "source": [
    "print(\"RMS do Treinamento/RMS do Teste = \",RMSTrain2/RMSTest2)\n",
    "print(\"R2 do Treinamento/R2 do Teste = \",r2Train2/r2Test2)"
   ]
  },
  {
   "cell_type": "markdown",
   "metadata": {},
   "source": [
    "Com os novos valores de RMS e R2 obtidos para o novo modelo, pode se chegar na conclusão de que ele  ainda sofre de underfitting, uma vez que o R2 para a base de treinamento continua menor que 0,5 e o RMS ainda é relativamente grande, portanto o modelo não prevê de maneira aceitável os dados de treinamento nem os de teste. Dessa forma o novo modelo continua em utilidade no mundo real."
   ]
  },
  {
   "cell_type": "markdown",
   "metadata": {},
   "source": [
    "___\n",
    "## CONCLUSÃO"
   ]
  },
  {
   "cell_type": "markdown",
   "metadata": {},
   "source": []
  },
  {
   "cell_type": "markdown",
   "metadata": {},
   "source": [
    "___\n",
    "## REFERÊNCIAS BIBLIOGRÁFICAS"
   ]
  },
  {
   "cell_type": "markdown",
   "metadata": {},
   "source": [
    "https://www.kaggle.com/tmdb/tmdb-movie-metadata - Acessado em 25/05/2018\n",
    "\n",
    "https://www.themoviedb.org/?language=en - Acessado em 25/05/2018\n",
    "\n",
    "https://ensinandomaquinasblog.wordpress.com/2017/12/15/modelos-preditivos-de-notas-de-redacao-do-enem-2015/  - Acessado em 25/05/2018\n",
    "\n",
    "http://scikit-learn.org/stable/modules/generated/sklearn.model_selection.cross_validate.html#sklearn.model_selection.cross_validate - Acessado em 27/05/2018\n",
    "\n",
    "https://www.learndatasci.com/tutorials/predicting-housing-prices-linear-regression-using-python-pandas-statsmodels/ - Acessado em 04/06/2018\n",
    "\n",
    "https://www.edvancer.in/step-step-guide-to-execute-linear-regression-python/ - Acessado em 04/06/2018\n",
    "\n",
    "[1] https://machinelearningmastery.com/overfitting-and-underfitting-with-machine-learning-algorithms/-  - Acessado em 05/06/2018"
   ]
  }
 ],
 "metadata": {
  "anaconda-cloud": {},
  "kernelspec": {
   "display_name": "Python 3",
   "language": "python",
   "name": "python3"
  },
  "language_info": {
   "codemirror_mode": {
    "name": "ipython",
    "version": 3
   },
   "file_extension": ".py",
   "mimetype": "text/x-python",
   "name": "python",
   "nbconvert_exporter": "python",
   "pygments_lexer": "ipython3",
   "version": "3.6.4"
  }
 },
 "nbformat": 4,
 "nbformat_minor": 1
}
