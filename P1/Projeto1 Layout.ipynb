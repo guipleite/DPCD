{
 "cells": [
  {
   "cell_type": "markdown",
   "metadata": {},
   "source": [
    "___\n",
    "# Ciência dos Dados - PROJETO 1"
   ]
  },
  {
   "cell_type": "markdown",
   "metadata": {},
   "source": [
    "## Guilherme Leite\n",
    "___"
   ]
  },
  {
   "cell_type": "markdown",
   "metadata": {},
   "source": [
    "## Evolução do Acesso a Técnologia em Relação ao PIB dos Estados Brasileiros"
   ]
  },
  {
   "cell_type": "markdown",
   "metadata": {},
   "source": [
    "___\n",
    "## Introdução\n",
    "\n",
    "Análise da evolução do acesso à internet e uso de telefonia móvel em relação ao PIB dos estados brasileiros entre os anos de 2011 e 2015."
   ]
  },
  {
   "cell_type": "markdown",
   "metadata": {},
   "source": [
    "___\n",
    "## Filtros da base de dados"
   ]
  },
  {
   "cell_type": "code",
   "execution_count": 150,
   "metadata": {},
   "outputs": [
    {
     "name": "stdout",
     "output_type": "stream",
     "text": [
      "Esperamos trabalhar no diretório\n",
      "C:\\Users\\Usuario\\Desktop\\Insper\\2018\\DPCD\\P1\n"
     ]
    }
   ],
   "source": [
    "%matplotlib inline\n",
    "import pandas as pd\n",
    "import matplotlib.pyplot as plt\n",
    "import numpy as np\n",
    "import os\n",
    "\n",
    "print('Esperamos trabalhar no diretório')\n",
    "print(os.getcwd())"
   ]
  },
  {
   "cell_type": "code",
   "execution_count": 151,
   "metadata": {},
   "outputs": [],
   "source": [
    "#Abre os arquivos\n",
    "PES2015 = pd.read_csv('PES2015.csv')\n",
    "PES2011 = pd.read_csv('PES2011.csv')"
   ]
  },
  {
   "cell_type": "code",
   "execution_count": 182,
   "metadata": {},
   "outputs": [],
   "source": [
    "#Seleciona as colunas\n",
    "P2015=PES2015[['UF','V06111','V061112','V061113','V061114','V06112']]\n",
    "P2011=PES2011[['UF','V06111','V06112']]"
   ]
  },
  {
   "cell_type": "code",
   "execution_count": 183,
   "metadata": {},
   "outputs": [
    {
     "name": "stderr",
     "output_type": "stream",
     "text": [
      "C:\\Users\\Usuario\\Anaconda3\\lib\\site-packages\\pandas\\core\\generic.py:3110: SettingWithCopyWarning: \n",
      "A value is trying to be set on a copy of a slice from a DataFrame.\n",
      "Try using .loc[row_indexer,col_indexer] = value instead\n",
      "\n",
      "See the caveats in the documentation: http://pandas.pydata.org/pandas-docs/stable/indexing.html#indexing-view-versus-copy\n",
      "  self[name] = value\n"
     ]
    }
   ],
   "source": [
    "#Define os tipos de respostas\n",
    "P2015.UF = P2015.UF.astype('category')\n",
    "P2015.V02272 = P2015.V06111.astype('category')\n",
    "P2015.V02273 = P2015.V061112.astype('category')\n",
    "P2015.V02424 = P2015.V061113.astype('category')\n",
    "P2015.V02425 = P2015.V061114.astype('category')\n",
    "P2015.V02426 = P2015.V06112.astype('category')\n",
    "\n",
    "P2011.UF = P2011.UF.astype('category')\n",
    "P2011.V02272 = P2011.V06111.astype('category')\n",
    "P2011.V02273 = P2011.V06112.astype('category')\n",
    "\n",
    "#Limpa o DataFrame\n",
    "NNP2015 = P2015[pd.notnull(P2015.UF)&pd.notnull(P2015.V06111)&pd.notnull(P2015.V061112)&pd.notnull(P2015.V061113)&pd.notnull(P2015.V061114)&pd.notnull(P2015.V06112)]\n",
    "NNP2015 = NNP2015.dropna(axis=1, how='all')\n",
    "\n",
    "NNP2011 = P2011[pd.notnull(P2011.UF)&pd.notnull(P2011.V06111)&pd.notnull(P2011.V06112)]\n",
    "NNP2011 = NNP2011.dropna(axis=1, how='all')"
   ]
  },
  {
   "cell_type": "code",
   "execution_count": 205,
   "metadata": {},
   "outputs": [],
   "source": [
    "#Posisão na lista de maiores PIBs por UF em 2015\n",
    "NNP2015.loc[(NNP2015.UF==11),'Pos_PIB'] = '23'\n",
    "NNP2015.loc[(NNP2015.UF==12),'Pos_PIB'] = '25'\n",
    "NNP2015.loc[(NNP2015.UF==13),'Pos_PIB'] = '15'\n",
    "NNP2015.loc[(NNP2015.UF==14),'Pos_PIB'] = '27'\n",
    "NNP2015.loc[(NNP2015.UF==15),'Pos_PIB'] = '13'\n",
    "NNP2015.loc[(NNP2015.UF==16),'Pos_PIB'] = '26'\n",
    "NNP2015.loc[(NNP2015.UF==17),'Pos_PIB'] = '24'\n",
    "NNP2015.loc[(NNP2015.UF==21),'Pos_PIB'] = '17'\n",
    "NNP2015.loc[(NNP2015.UF==22),'Pos_PIB'] = '21'\n",
    "NNP2015.loc[(NNP2015.UF==23),'Pos_PIB'] = '12'\n",
    "NNP2015.loc[(NNP2015.UF==24),'Pos_PIB'] = '18'\n",
    "NNP2015.loc[(NNP2015.UF==25),'Pos_PIB'] = '19'\n",
    "NNP2015.loc[(NNP2015.UF==26),'Pos_PIB'] = '10'\n",
    "NNP2015.loc[(NNP2015.UF==27),'Pos_PIB'] = '20'\n",
    "NNP2015.loc[(NNP2015.UF==28),'Pos_PIB'] = '22'\n",
    "NNP2015.loc[(NNP2015.UF==29),'Pos_PIB'] = '7'\n",
    "NNP2015.loc[(NNP2015.UF==31),'Pos_PIB'] = '3'\n",
    "NNP2015.loc[(NNP2015.UF==32),'Pos_PIB'] = '11'\n",
    "NNP2015.loc[(NNP2015.UF==33),'Pos_PIB'] = '2'\n",
    "NNP2015.loc[(NNP2015.UF==35),'Pos_PIB'] = '1'\n",
    "NNP2015.loc[(NNP2015.UF==41),'Pos_PIB'] = '5'\n",
    "NNP2015.loc[(NNP2015.UF==42),'Pos_PIB'] = '6'\n",
    "NNP2015.loc[(NNP2015.UF==43),'Pos_PIB'] = '4'\n",
    "NNP2015.loc[(NNP2015.UF==50),'Pos_PIB'] = '16'\n",
    "NNP2015.loc[(NNP2015.UF==51),'Pos_PIB'] = '14'\n",
    "NNP2015.loc[(NNP2015.UF==52),'Pos_PIB'] = '9'\n",
    "NNP2015.loc[(NNP2015.UF==53),'Pos_PIB'] = '8'\n",
    "\n",
    "#Posisão na lista de maiores PIBs por UF em 2011\n",
    "NNP2011.loc[(NNP2011.UF==11),'Pos_PIB'] = '21'\n",
    "NNP2011.loc[(NNP2011.UF==12),'Pos_PIB'] = '25'\n",
    "NNP2011.loc[(NNP2011.UF==13),'Pos_PIB'] = '15'\n",
    "NNP2011.loc[(NNP2011.UF==14),'Pos_PIB'] = '26'\n",
    "NNP2011.loc[(NNP2011.UF==15),'Pos_PIB'] = '12'\n",
    "NNP2011.loc[(NNP2011.UF==16),'Pos_PIB'] = '27'\n",
    "NNP2011.loc[(NNP2011.UF==17),'Pos_PIB'] = '24'\n",
    "NNP2011.loc[(NNP2011.UF==21),'Pos_PIB'] = '16'\n",
    "NNP2011.loc[(NNP2011.UF==22),'Pos_PIB'] = '22'\n",
    "NNP2011.loc[(NNP2011.UF==23),'Pos_PIB'] = '24'\n",
    "NNP2011.loc[(NNP2011.UF==24),'Pos_PIB'] = '18'\n",
    "NNP2011.loc[(NNP2011.UF==25),'Pos_PIB'] = '19'\n",
    "NNP2011.loc[(NNP2011.UF==26),'Pos_PIB'] = '10'\n",
    "NNP2011.loc[(NNP2011.UF==27),'Pos_PIB'] = '20'\n",
    "NNP2011.loc[(NNP2011.UF==28),'Pos_PIB'] = '22'\n",
    "NNP2011.loc[(NNP2011.UF==29),'Pos_PIB'] = '8'\n",
    "NNP2011.loc[(NNP2011.UF==31),'Pos_PIB'] = '3'\n",
    "NNP2011.loc[(NNP2011.UF==32),'Pos_PIB'] = '11'\n",
    "NNP2011.loc[(NNP2011.UF==33),'Pos_PIB'] = '2'\n",
    "NNP2011.loc[(NNP2011.UF==35),'Pos_PIB'] = '1'\n",
    "NNP2011.loc[(NNP2011.UF==41),'Pos_PIB'] = '5'\n",
    "NNP2011.loc[(NNP2011.UF==42),'Pos_PIB'] = '6'\n",
    "NNP2011.loc[(NNP2011.UF==43),'Pos_PIB'] = '4'\n",
    "NNP2011.loc[(NNP2011.UF==50),'Pos_PIB'] = '17'\n",
    "NNP2011.loc[(NNP2011.UF==51),'Pos_PIB'] = '14'\n",
    "NNP2011.loc[(NNP2011.UF==52),'Pos_PIB'] = '9'\n",
    "NNP2011.loc[(NNP2011.UF==53),'Pos_PIB'] = '7'\n"
   ]
  },
  {
   "cell_type": "code",
   "execution_count": 206,
   "metadata": {},
   "outputs": [],
   "source": [
    "NNPx2015 = NNP2015.sort_values(['Pos_PIB'], ascending=[True])"
   ]
  },
  {
   "cell_type": "code",
   "execution_count": 210,
   "metadata": {},
   "outputs": [
    {
     "data": {
      "image/png": "[encoded data removed]",
      "text/plain": [
       "<matplotlib.figure.Figure at 0x205d49d3d68>"
      ]
     },
     "metadata": {},
     "output_type": "display_data"
    }
   ],
   "source": [
    "UF15 = (NNPx2015.Pos_PIB.value_counts(sort=True))           \n",
    "UF15.plot(kind='bar',title='Pessoas por Estado em 2015(Em relação ao PIB)',figsize=(7, 4),color=('b','g'))\n",
    "plt.ylabel('Domicílios')\n",
    "plt.xlabel('Estados')\n",
    "plt.subplot(111)\n",
    "plt.show()"
   ]
  },
  {
   "cell_type": "code",
   "execution_count": null,
   "metadata": {
    "collapsed": true
   },
   "outputs": [],
   "source": []
  },
  {
   "cell_type": "markdown",
   "metadata": {},
   "source": [
    "___\n",
    "## Análise e Resultados"
   ]
  },
  {
   "cell_type": "code",
   "execution_count": null,
   "metadata": {
    "collapsed": true
   },
   "outputs": [],
   "source": []
  },
  {
   "cell_type": "code",
   "execution_count": null,
   "metadata": {
    "collapsed": true
   },
   "outputs": [],
   "source": []
  },
  {
   "cell_type": "markdown",
   "metadata": {},
   "source": [
    "___\n",
    "## Conclusão "
   ]
  },
  {
   "cell_type": "markdown",
   "metadata": {
    "collapsed": true
   },
   "source": [
    "Descreva aqui suas conclusões!"
   ]
  },
  {
   "cell_type": "code",
   "execution_count": null,
   "metadata": {
    "collapsed": true
   },
   "outputs": [],
   "source": []
  }
 ],
 "metadata": {
  "anaconda-cloud": {},
  "kernelspec": {
   "display_name": "Python 3",
   "language": "python",
   "name": "python3"
  },
  "language_info": {
   "codemirror_mode": {
    "name": "ipython",
    "version": 3
   },
   "file_extension": ".py",
   "mimetype": "text/x-python",
   "name": "python",
   "nbconvert_exporter": "python",
   "pygments_lexer": "ipython3",
   "version": "3.6.0"
  }
 },
 "nbformat": 4,
 "nbformat_minor": 1
}
