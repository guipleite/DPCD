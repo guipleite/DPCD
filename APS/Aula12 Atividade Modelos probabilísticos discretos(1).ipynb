{
 "cells": [
  {
   "cell_type": "markdown",
   "metadata": {},
   "source": [
    " ___\n",
    "# Atividade: Modelos probabilísticos discretos\n",
    "___\n",
    "\n",
    "## Aula 12\n",
    "\n",
    "**Referência de Leitura:**\n",
    "1. Magalhães e Lima (7ª. Edição): Seções 3.2 e 3.3\n",
    "\n",
    "**Hoje:**\n",
    "1.\tDescrever modelos discretos quanto aos resultados teóricos.\n",
    "2.\tExplicar a utilização de modelos probabilísticos no contexto da literatura estatística.\n",
    "3.\tContrastar resultados teóricos e empíricos.\n",
    "4.\tFechamento do conteúdo.\n",
    "\n",
    "**Próxima aula:**\n",
    "1. Leitura prévia necessária: Magalhães e Lima (7ª. Edição): Capítulo 6 - Seção 6.1.\n",
    "\n",
    "___"
   ]
  },
  {
   "cell_type": "code",
   "execution_count": 119,
   "metadata": {
    "collapsed": true
   },
   "outputs": [],
   "source": [
    "%matplotlib inline\n",
    "import pandas as pd\n",
    "import matplotlib.pyplot as plt\n",
    "import math\n",
    "from scipy import stats #importa apenas as funções de estatísticas da biblioteca SciPy.\n",
    "import itertools #importante para gerar todos os resultados possíveis!!\n"
   ]
  },
  {
   "cell_type": "markdown",
   "metadata": {},
   "source": [
    "___\n",
    "## <font color='blue'>Exercício 1</font>\n",
    "\n",
    "### <font color='red'>**Publicar no github até dia 10/04 INDIVIDUAL **</font>\n",
    "\n",
    "\n",
    "#### Este exercício irá explorar  construção de árvore de probabilidades com eventos e construção da distribuição de probabilidades de uma variável aleatória discreta. Ainda, irá explorar o modelo de distribuição probabilística Binomial\n",
    "\n",
    "Um resistor de 100K Ohms comprado na Santa Efigênia tem probabilidade de falha de 5%, segundo um fabricante ruim.\n",
    "\n",
    "Ainda, por suposição, admita que os resistores falhem de forma independente entre si.\n",
    "\n",
    "Um aluno de engenharia compra um pacote contendo $n$ resistores.\n",
    "\n",
    "1. Assuma $n=3$ e faça os itens a seguir.\n",
    "  1. Monte o espaço amostral que combine todos os resultados possíveis de Falha e não Falha desses $n$ resistores. Ainda, calcule a probabilidade de cada resultado do espaço amostral acontecer.\n",
    "  2. Se $Y$ representa o número de resistores que falham em um pacotinho com $n$ resistores, então construa a distribuição de probabilidades de $Y$.\n",
    "  3. Calcule a média e o desvio padrão de $Y$. Interprete os resultados.\n",
    "  4. Utilizando o modelo probabilístico da distribuição Binomial, encontre a distribuição de probabilidades de cada possível valor de $Y$. Calcule também $E(Y)$ e $Var(Y)$. Compare com as distribuições de probabilidades obtidas nos itens anteriores e discuta porque esses valores são iguais ou diferentes!\n",
    "   \n",
    "2. Assuma $n=7$ e repita os itens A) a D) anteriores. No caso de $n=7$ ou maiores quantidades de resistores em um pacotinho, qual a viabilidade de construir a distribuição de probabilidades do número de resistores com defeitos quando $n$ não é pequeno seguindo os itens de A) a C)?\n",
    " \n",
    "3. Com $n=100$, por exemplo, é extremamente inviável a construção de árvore de probabilidades até mesmo utilizando a poderosa ferramenta Python. \n",
    "  1. No caso assuma $n=100$ e repita o item 1.D) anterior. \n",
    "  2. Ainda, calcule a probabilidade de, em um pacote com 100 resistores, pelo menos a metade deles apresentarem falha?\n",
    "\n",
    "\n",
    "A seguir, um resumo sobre o modelo teórico Binomial!    \n",
    "> \n",
    "\n",
    "> **DISTRIBUIÇÃO BINOMIAL - TEORIA:**\n",
    "\n",
    "> É responsável por modelar uma variável $Y$ definida pelo Número de sucessos em $n$ tentativas, cuja probabilidade de sucesso é dada por $p$. Assim, dizemos que $Y$~$Bin(n,p)$ e lê-se: $Y$ segue uma distribuição binomial com $n$ tentativas e $p$ como probabilidade de sucesso. \n",
    "\n",
    "> A função de probabilidade nesse caso é dada por:\n",
    "$P(Y=y)=\\left(\n",
    "\\begin{array}{c}\n",
    "    n \\\\\n",
    "    y\n",
    "\\end{array}\\right) p^y (1-p)^{(n-y)}$\n",
    "\n",
    "> Para um experimento ter as probabilidade dos números de sucessos modeladas por uma distribuição Binomial, o mesmo precisa ter as seguintes propriedades:\n",
    "* é uma contagem de $n$ repetições (ou tentativas ou ensaios) idênticas;\n",
    "* cada repetição tem apenas 2 resultados possíveis: um é denominado sucesso e o outro, fracasso;\n",
    "* a probabilidade de sucesso para cada ensaio é denominada $p$ e será constante em cada repetição. Então, a probabilidade de fracasso $(1-p)$ também não varia de tentativa para tentativa;\n",
    "* As tentativas são independentes.\n",
    "\n",
    "\n",
    "> **DISTRIBUIÇÃO BINOMIAL - PYTHON:** <sup> [https://en.wikipedia.org/wiki/SciPy]\n",
    "\n",
    "> Algumas funções úteis para desenvolver seu código: <sup> [http://docs.scipy.org/doc/scipy-0.16.1/reference/generated/scipy.stats.binom.html]\n",
    "* $P(Y=y)$: `stats.binom.pmf(y, n, p)`\n",
    "* $P(Y\\leq y)$: `stats.binom.cdf(y, n, p)`\n",
    "* $E(Y)$ e $Var(Y)$: `stats.binom.stats(n, p, moments='mv')`\n",
    "\n"
   ]
  },
  {
   "cell_type": "code",
   "execution_count": 120,
   "metadata": {},
   "outputs": [
    {
     "data": {
      "text/plain": [
       "[('F', 'F', 'F'),\n",
       " ('F', 'F', 'NF'),\n",
       " ('F', 'NF', 'F'),\n",
       " ('F', 'NF', 'NF'),\n",
       " ('NF', 'F', 'F'),\n",
       " ('NF', 'F', 'NF'),\n",
       " ('NF', 'NF', 'F'),\n",
       " ('NF', 'NF', 'NF')]"
      ]
     },
     "execution_count": 120,
     "metadata": {},
     "output_type": "execute_result"
    }
   ],
   "source": [
    "import itertools\n",
    "possibilidades = [\"F\", \"NF\"]#Falha e Não Falha\n",
    "prob = {\"F\": 0.05, \"NF\":0.95}\n",
    "n = 3\n",
    "\n",
    "arranjos = itertools.product(possibilidades, repeat=n)\n",
    "espaco_amostral = list(arranjos)\n",
    "espaco_amostral"
   ]
  },
  {
   "cell_type": "code",
   "execution_count": 121,
   "metadata": {
    "scrolled": true
   },
   "outputs": [
    {
     "name": "stdout",
     "output_type": "stream",
     "text": [
      "Probabilidade de  ('F', 'F', 'F')  é igual a  0.00013\n",
      "Probabilidade de  ('F', 'F', 'NF')  é igual a  0.00238\n",
      "Probabilidade de  ('F', 'NF', 'F')  é igual a  0.00238\n",
      "Probabilidade de  ('F', 'NF', 'NF')  é igual a  0.04512\n",
      "Probabilidade de  ('NF', 'F', 'F')  é igual a  0.00238\n",
      "Probabilidade de  ('NF', 'F', 'NF')  é igual a  0.04512\n",
      "Probabilidade de  ('NF', 'NF', 'F')  é igual a  0.04512\n",
      "Probabilidade de  ('NF', 'NF', 'NF')  é igual a  0.85737\n"
     ]
    }
   ],
   "source": [
    "prob_linhas = []\n",
    "\n",
    "for res in espaco_amostral:\n",
    "    p = 1.0\n",
    "    for e in res:\n",
    "        p*=prob[e]\n",
    "    prob_linhas.append(p)\n",
    "    print(\"Probabilidade de \",res,\" é igual a \",\"%3.5f\"%p)"
   ]
  },
  {
   "cell_type": "code",
   "execution_count": 122,
   "metadata": {},
   "outputs": [],
   "source": [
    "n, p = 3, 0.05"
   ]
  },
  {
   "cell_type": "code",
   "execution_count": 123,
   "metadata": {},
   "outputs": [
    {
     "name": "stdout",
     "output_type": "stream",
     "text": [
      "[0, 0.857375, 1, 0.135375, 2, 0.0071250000000000072, 3, 0.000125]\n"
     ]
    }
   ],
   "source": [
    "L = []\n",
    "Py = []\n",
    "\n",
    "for i in range(n+1):\n",
    "    P = stats.binom.pmf(i, n, p)\n",
    "    L.append(i)\n",
    "    L.append(P)\n",
    "    Py.append(L)\n",
    "\n",
    "print(Py[-1])"
   ]
  },
  {
   "cell_type": "code",
   "execution_count": 124,
   "metadata": {},
   "outputs": [
    {
     "data": {
      "text/plain": [
       "0.14999999999999999"
      ]
     },
     "execution_count": 124,
     "metadata": {},
     "output_type": "execute_result"
    }
   ],
   "source": [
    "c =0\n",
    "l = []\n",
    "for i in Py[-1]:    \n",
    "    if c%2 == 0:\n",
    "        num = i\n",
    "    if c%2 != 0:\n",
    "        v = num*i\n",
    "        l.append(v)\n",
    "    c +=1\n",
    "    \n",
    "Xb = sum(l)\n",
    "Xb"
   ]
  },
  {
   "cell_type": "code",
   "execution_count": 125,
   "metadata": {},
   "outputs": [
    {
     "name": "stdout",
     "output_type": "stream",
     "text": [
      "Variancia:  0.1425\n",
      "Desvio Padrão:  0.3774917217635375\n"
     ]
    }
   ],
   "source": [
    "c =0\n",
    "l = []\n",
    "for i in Py[-1]:    \n",
    "    if c%2 == 0:\n",
    "        oo = (i-Xb)**2\n",
    "    if c%2 != 0:\n",
    "        v = i*oo\n",
    "        l.append(v)\n",
    "        \n",
    "    c +=1\n",
    "\n",
    "var = sum(l)\n",
    "dp = math.sqrt(var)\n",
    "print(\"Variancia: \",var)\n",
    "print(\"Desvio Padrão: \",dp)"
   ]
  },
  {
   "cell_type": "code",
   "execution_count": 126,
   "metadata": {},
   "outputs": [
    {
     "name": "stdout",
     "output_type": "stream",
     "text": [
      "(array(0.15000000000000002), array(0.14250000000000002))\n",
      "Média:  0.15000000000000002\n",
      "Variancia:  0.1425\n",
      "Desvio Padrão:  0.3774917217635375\n"
     ]
    }
   ],
   "source": [
    "print(stats.binom.stats(n, p, moments='mv'))\n",
    "\n",
    "M = n * p #media\n",
    "print(\"Média: \",M)\n",
    "\n",
    "c =0\n",
    "l = []\n",
    "for i in Py[-1]:    \n",
    "    if c%2 == 0:\n",
    "        oo = (i-M)**2\n",
    "    if c%2 != 0:\n",
    "        v = i*oo\n",
    "        l.append(v)\n",
    "        \n",
    "    c +=1\n",
    "\n",
    "var = sum(l)\n",
    "dp = math.sqrt(var)\n",
    "print(\"Variancia: \",var)\n",
    "print(\"Desvio Padrão: \",dp)"
   ]
  },
  {
   "cell_type": "markdown",
   "metadata": {},
   "source": [
    "A media de resistores com falhas por pacote é 0.15, como a falha ou não falha são independentes, a media é a probabilidade de falha vezes n, a variancia mostra que a dispersão de relativamente pequena e é igual a calculada anteriormente."
   ]
  },
  {
   "cell_type": "code",
   "execution_count": 127,
   "metadata": {
    "scrolled": true
   },
   "outputs": [
    {
     "name": "stdout",
     "output_type": "stream",
     "text": [
      "Probabilidade de  ('F', 'F', 'F', 'F', 'F', 'F', 'F')  é igual a  0.00000\n",
      "Probabilidade de  ('F', 'F', 'F', 'F', 'F', 'F', 'NF')  é igual a  0.00000\n",
      "Probabilidade de  ('F', 'F', 'F', 'F', 'F', 'NF', 'F')  é igual a  0.00000\n",
      "Probabilidade de  ('F', 'F', 'F', 'F', 'F', 'NF', 'NF')  é igual a  0.00000\n",
      "Probabilidade de  ('F', 'F', 'F', 'F', 'NF', 'F', 'F')  é igual a  0.00000\n",
      "Probabilidade de  ('F', 'F', 'F', 'F', 'NF', 'F', 'NF')  é igual a  0.00000\n",
      "Probabilidade de  ('F', 'F', 'F', 'F', 'NF', 'NF', 'F')  é igual a  0.00000\n",
      "Probabilidade de  ('F', 'F', 'F', 'F', 'NF', 'NF', 'NF')  é igual a  0.00001\n",
      "Probabilidade de  ('F', 'F', 'F', 'NF', 'F', 'F', 'F')  é igual a  0.00000\n",
      "Probabilidade de  ('F', 'F', 'F', 'NF', 'F', 'F', 'NF')  é igual a  0.00000\n",
      "Probabilidade de  ('F', 'F', 'F', 'NF', 'F', 'NF', 'F')  é igual a  0.00000\n",
      "Probabilidade de  ('F', 'F', 'F', 'NF', 'F', 'NF', 'NF')  é igual a  0.00001\n",
      "Probabilidade de  ('F', 'F', 'F', 'NF', 'NF', 'F', 'F')  é igual a  0.00000\n",
      "Probabilidade de  ('F', 'F', 'F', 'NF', 'NF', 'F', 'NF')  é igual a  0.00001\n",
      "Probabilidade de  ('F', 'F', 'F', 'NF', 'NF', 'NF', 'F')  é igual a  0.00001\n",
      "Probabilidade de  ('F', 'F', 'F', 'NF', 'NF', 'NF', 'NF')  é igual a  0.00010\n",
      "Probabilidade de  ('F', 'F', 'NF', 'F', 'F', 'F', 'F')  é igual a  0.00000\n",
      "Probabilidade de  ('F', 'F', 'NF', 'F', 'F', 'F', 'NF')  é igual a  0.00000\n",
      "Probabilidade de  ('F', 'F', 'NF', 'F', 'F', 'NF', 'F')  é igual a  0.00000\n",
      "Probabilidade de  ('F', 'F', 'NF', 'F', 'F', 'NF', 'NF')  é igual a  0.00001\n",
      "Probabilidade de  ('F', 'F', 'NF', 'F', 'NF', 'F', 'F')  é igual a  0.00000\n",
      "Probabilidade de  ('F', 'F', 'NF', 'F', 'NF', 'F', 'NF')  é igual a  0.00001\n",
      "Probabilidade de  ('F', 'F', 'NF', 'F', 'NF', 'NF', 'F')  é igual a  0.00001\n",
      "Probabilidade de  ('F', 'F', 'NF', 'F', 'NF', 'NF', 'NF')  é igual a  0.00010\n",
      "Probabilidade de  ('F', 'F', 'NF', 'NF', 'F', 'F', 'F')  é igual a  0.00000\n",
      "Probabilidade de  ('F', 'F', 'NF', 'NF', 'F', 'F', 'NF')  é igual a  0.00001\n",
      "Probabilidade de  ('F', 'F', 'NF', 'NF', 'F', 'NF', 'F')  é igual a  0.00001\n",
      "Probabilidade de  ('F', 'F', 'NF', 'NF', 'F', 'NF', 'NF')  é igual a  0.00010\n",
      "Probabilidade de  ('F', 'F', 'NF', 'NF', 'NF', 'F', 'F')  é igual a  0.00001\n",
      "Probabilidade de  ('F', 'F', 'NF', 'NF', 'NF', 'F', 'NF')  é igual a  0.00010\n",
      "Probabilidade de  ('F', 'F', 'NF', 'NF', 'NF', 'NF', 'F')  é igual a  0.00010\n",
      "Probabilidade de  ('F', 'F', 'NF', 'NF', 'NF', 'NF', 'NF')  é igual a  0.00193\n",
      "Probabilidade de  ('F', 'NF', 'F', 'F', 'F', 'F', 'F')  é igual a  0.00000\n",
      "Probabilidade de  ('F', 'NF', 'F', 'F', 'F', 'F', 'NF')  é igual a  0.00000\n",
      "Probabilidade de  ('F', 'NF', 'F', 'F', 'F', 'NF', 'F')  é igual a  0.00000\n",
      "Probabilidade de  ('F', 'NF', 'F', 'F', 'F', 'NF', 'NF')  é igual a  0.00001\n",
      "Probabilidade de  ('F', 'NF', 'F', 'F', 'NF', 'F', 'F')  é igual a  0.00000\n",
      "Probabilidade de  ('F', 'NF', 'F', 'F', 'NF', 'F', 'NF')  é igual a  0.00001\n",
      "Probabilidade de  ('F', 'NF', 'F', 'F', 'NF', 'NF', 'F')  é igual a  0.00001\n",
      "Probabilidade de  ('F', 'NF', 'F', 'F', 'NF', 'NF', 'NF')  é igual a  0.00010\n",
      "Probabilidade de  ('F', 'NF', 'F', 'NF', 'F', 'F', 'F')  é igual a  0.00000\n",
      "Probabilidade de  ('F', 'NF', 'F', 'NF', 'F', 'F', 'NF')  é igual a  0.00001\n",
      "Probabilidade de  ('F', 'NF', 'F', 'NF', 'F', 'NF', 'F')  é igual a  0.00001\n",
      "Probabilidade de  ('F', 'NF', 'F', 'NF', 'F', 'NF', 'NF')  é igual a  0.00010\n",
      "Probabilidade de  ('F', 'NF', 'F', 'NF', 'NF', 'F', 'F')  é igual a  0.00001\n",
      "Probabilidade de  ('F', 'NF', 'F', 'NF', 'NF', 'F', 'NF')  é igual a  0.00010\n",
      "Probabilidade de  ('F', 'NF', 'F', 'NF', 'NF', 'NF', 'F')  é igual a  0.00010\n",
      "Probabilidade de  ('F', 'NF', 'F', 'NF', 'NF', 'NF', 'NF')  é igual a  0.00193\n",
      "Probabilidade de  ('F', 'NF', 'NF', 'F', 'F', 'F', 'F')  é igual a  0.00000\n",
      "Probabilidade de  ('F', 'NF', 'NF', 'F', 'F', 'F', 'NF')  é igual a  0.00001\n",
      "Probabilidade de  ('F', 'NF', 'NF', 'F', 'F', 'NF', 'F')  é igual a  0.00001\n",
      "Probabilidade de  ('F', 'NF', 'NF', 'F', 'F', 'NF', 'NF')  é igual a  0.00010\n",
      "Probabilidade de  ('F', 'NF', 'NF', 'F', 'NF', 'F', 'F')  é igual a  0.00001\n",
      "Probabilidade de  ('F', 'NF', 'NF', 'F', 'NF', 'F', 'NF')  é igual a  0.00010\n",
      "Probabilidade de  ('F', 'NF', 'NF', 'F', 'NF', 'NF', 'F')  é igual a  0.00010\n",
      "Probabilidade de  ('F', 'NF', 'NF', 'F', 'NF', 'NF', 'NF')  é igual a  0.00193\n",
      "Probabilidade de  ('F', 'NF', 'NF', 'NF', 'F', 'F', 'F')  é igual a  0.00001\n",
      "Probabilidade de  ('F', 'NF', 'NF', 'NF', 'F', 'F', 'NF')  é igual a  0.00010\n",
      "Probabilidade de  ('F', 'NF', 'NF', 'NF', 'F', 'NF', 'F')  é igual a  0.00010\n",
      "Probabilidade de  ('F', 'NF', 'NF', 'NF', 'F', 'NF', 'NF')  é igual a  0.00193\n",
      "Probabilidade de  ('F', 'NF', 'NF', 'NF', 'NF', 'F', 'F')  é igual a  0.00010\n",
      "Probabilidade de  ('F', 'NF', 'NF', 'NF', 'NF', 'F', 'NF')  é igual a  0.00193\n",
      "Probabilidade de  ('F', 'NF', 'NF', 'NF', 'NF', 'NF', 'F')  é igual a  0.00193\n",
      "Probabilidade de  ('F', 'NF', 'NF', 'NF', 'NF', 'NF', 'NF')  é igual a  0.03675\n",
      "Probabilidade de  ('NF', 'F', 'F', 'F', 'F', 'F', 'F')  é igual a  0.00000\n",
      "Probabilidade de  ('NF', 'F', 'F', 'F', 'F', 'F', 'NF')  é igual a  0.00000\n",
      "Probabilidade de  ('NF', 'F', 'F', 'F', 'F', 'NF', 'F')  é igual a  0.00000\n",
      "Probabilidade de  ('NF', 'F', 'F', 'F', 'F', 'NF', 'NF')  é igual a  0.00001\n",
      "Probabilidade de  ('NF', 'F', 'F', 'F', 'NF', 'F', 'F')  é igual a  0.00000\n",
      "Probabilidade de  ('NF', 'F', 'F', 'F', 'NF', 'F', 'NF')  é igual a  0.00001\n",
      "Probabilidade de  ('NF', 'F', 'F', 'F', 'NF', 'NF', 'F')  é igual a  0.00001\n",
      "Probabilidade de  ('NF', 'F', 'F', 'F', 'NF', 'NF', 'NF')  é igual a  0.00010\n",
      "Probabilidade de  ('NF', 'F', 'F', 'NF', 'F', 'F', 'F')  é igual a  0.00000\n",
      "Probabilidade de  ('NF', 'F', 'F', 'NF', 'F', 'F', 'NF')  é igual a  0.00001\n",
      "Probabilidade de  ('NF', 'F', 'F', 'NF', 'F', 'NF', 'F')  é igual a  0.00001\n",
      "Probabilidade de  ('NF', 'F', 'F', 'NF', 'F', 'NF', 'NF')  é igual a  0.00010\n",
      "Probabilidade de  ('NF', 'F', 'F', 'NF', 'NF', 'F', 'F')  é igual a  0.00001\n",
      "Probabilidade de  ('NF', 'F', 'F', 'NF', 'NF', 'F', 'NF')  é igual a  0.00010\n",
      "Probabilidade de  ('NF', 'F', 'F', 'NF', 'NF', 'NF', 'F')  é igual a  0.00010\n",
      "Probabilidade de  ('NF', 'F', 'F', 'NF', 'NF', 'NF', 'NF')  é igual a  0.00193\n",
      "Probabilidade de  ('NF', 'F', 'NF', 'F', 'F', 'F', 'F')  é igual a  0.00000\n",
      "Probabilidade de  ('NF', 'F', 'NF', 'F', 'F', 'F', 'NF')  é igual a  0.00001\n",
      "Probabilidade de  ('NF', 'F', 'NF', 'F', 'F', 'NF', 'F')  é igual a  0.00001\n",
      "Probabilidade de  ('NF', 'F', 'NF', 'F', 'F', 'NF', 'NF')  é igual a  0.00010\n",
      "Probabilidade de  ('NF', 'F', 'NF', 'F', 'NF', 'F', 'F')  é igual a  0.00001\n",
      "Probabilidade de  ('NF', 'F', 'NF', 'F', 'NF', 'F', 'NF')  é igual a  0.00010\n",
      "Probabilidade de  ('NF', 'F', 'NF', 'F', 'NF', 'NF', 'F')  é igual a  0.00010\n",
      "Probabilidade de  ('NF', 'F', 'NF', 'F', 'NF', 'NF', 'NF')  é igual a  0.00193\n",
      "Probabilidade de  ('NF', 'F', 'NF', 'NF', 'F', 'F', 'F')  é igual a  0.00001\n",
      "Probabilidade de  ('NF', 'F', 'NF', 'NF', 'F', 'F', 'NF')  é igual a  0.00010\n",
      "Probabilidade de  ('NF', 'F', 'NF', 'NF', 'F', 'NF', 'F')  é igual a  0.00010\n",
      "Probabilidade de  ('NF', 'F', 'NF', 'NF', 'F', 'NF', 'NF')  é igual a  0.00193\n",
      "Probabilidade de  ('NF', 'F', 'NF', 'NF', 'NF', 'F', 'F')  é igual a  0.00010\n",
      "Probabilidade de  ('NF', 'F', 'NF', 'NF', 'NF', 'F', 'NF')  é igual a  0.00193\n",
      "Probabilidade de  ('NF', 'F', 'NF', 'NF', 'NF', 'NF', 'F')  é igual a  0.00193\n",
      "Probabilidade de  ('NF', 'F', 'NF', 'NF', 'NF', 'NF', 'NF')  é igual a  0.03675\n",
      "Probabilidade de  ('NF', 'NF', 'F', 'F', 'F', 'F', 'F')  é igual a  0.00000\n",
      "Probabilidade de  ('NF', 'NF', 'F', 'F', 'F', 'F', 'NF')  é igual a  0.00001\n",
      "Probabilidade de  ('NF', 'NF', 'F', 'F', 'F', 'NF', 'F')  é igual a  0.00001\n",
      "Probabilidade de  ('NF', 'NF', 'F', 'F', 'F', 'NF', 'NF')  é igual a  0.00010\n",
      "Probabilidade de  ('NF', 'NF', 'F', 'F', 'NF', 'F', 'F')  é igual a  0.00001\n",
      "Probabilidade de  ('NF', 'NF', 'F', 'F', 'NF', 'F', 'NF')  é igual a  0.00010\n",
      "Probabilidade de  ('NF', 'NF', 'F', 'F', 'NF', 'NF', 'F')  é igual a  0.00010\n",
      "Probabilidade de  ('NF', 'NF', 'F', 'F', 'NF', 'NF', 'NF')  é igual a  0.00193\n",
      "Probabilidade de  ('NF', 'NF', 'F', 'NF', 'F', 'F', 'F')  é igual a  0.00001\n",
      "Probabilidade de  ('NF', 'NF', 'F', 'NF', 'F', 'F', 'NF')  é igual a  0.00010\n",
      "Probabilidade de  ('NF', 'NF', 'F', 'NF', 'F', 'NF', 'F')  é igual a  0.00010\n",
      "Probabilidade de  ('NF', 'NF', 'F', 'NF', 'F', 'NF', 'NF')  é igual a  0.00193\n",
      "Probabilidade de  ('NF', 'NF', 'F', 'NF', 'NF', 'F', 'F')  é igual a  0.00010\n",
      "Probabilidade de  ('NF', 'NF', 'F', 'NF', 'NF', 'F', 'NF')  é igual a  0.00193\n",
      "Probabilidade de  ('NF', 'NF', 'F', 'NF', 'NF', 'NF', 'F')  é igual a  0.00193\n",
      "Probabilidade de  ('NF', 'NF', 'F', 'NF', 'NF', 'NF', 'NF')  é igual a  0.03675\n",
      "Probabilidade de  ('NF', 'NF', 'NF', 'F', 'F', 'F', 'F')  é igual a  0.00001\n",
      "Probabilidade de  ('NF', 'NF', 'NF', 'F', 'F', 'F', 'NF')  é igual a  0.00010\n",
      "Probabilidade de  ('NF', 'NF', 'NF', 'F', 'F', 'NF', 'F')  é igual a  0.00010\n",
      "Probabilidade de  ('NF', 'NF', 'NF', 'F', 'F', 'NF', 'NF')  é igual a  0.00193\n",
      "Probabilidade de  ('NF', 'NF', 'NF', 'F', 'NF', 'F', 'F')  é igual a  0.00010\n",
      "Probabilidade de  ('NF', 'NF', 'NF', 'F', 'NF', 'F', 'NF')  é igual a  0.00193\n",
      "Probabilidade de  ('NF', 'NF', 'NF', 'F', 'NF', 'NF', 'F')  é igual a  0.00193\n",
      "Probabilidade de  ('NF', 'NF', 'NF', 'F', 'NF', 'NF', 'NF')  é igual a  0.03675\n",
      "Probabilidade de  ('NF', 'NF', 'NF', 'NF', 'F', 'F', 'F')  é igual a  0.00010\n",
      "Probabilidade de  ('NF', 'NF', 'NF', 'NF', 'F', 'F', 'NF')  é igual a  0.00193\n",
      "Probabilidade de  ('NF', 'NF', 'NF', 'NF', 'F', 'NF', 'F')  é igual a  0.00193\n",
      "Probabilidade de  ('NF', 'NF', 'NF', 'NF', 'F', 'NF', 'NF')  é igual a  0.03675\n",
      "Probabilidade de  ('NF', 'NF', 'NF', 'NF', 'NF', 'F', 'F')  é igual a  0.00193\n",
      "Probabilidade de  ('NF', 'NF', 'NF', 'NF', 'NF', 'F', 'NF')  é igual a  0.03675\n",
      "Probabilidade de  ('NF', 'NF', 'NF', 'NF', 'NF', 'NF', 'F')  é igual a  0.03675\n",
      "Probabilidade de  ('NF', 'NF', 'NF', 'NF', 'NF', 'NF', 'NF')  é igual a  0.69834\n"
     ]
    }
   ],
   "source": [
    "#item 2\n",
    "n,p=7, 0.005\n",
    "arranjos = itertools.product(possibilidades, repeat=n)\n",
    "espaco_amostral = list(arranjos)\n",
    "\n",
    "prob_linhas = []\n",
    "\n",
    "for res in espaco_amostral:\n",
    "    p = 1.0\n",
    "    for e in res:\n",
    "        p*=prob[e]\n",
    "    prob_linhas.append(p)\n",
    "    print(\"Probabilidade de \",res,\" é igual a \",\"%3.5f\"%p)"
   ]
  },
  {
   "cell_type": "code",
   "execution_count": 139,
   "metadata": {},
   "outputs": [],
   "source": [
    "n,p=7, 0.05"
   ]
  },
  {
   "cell_type": "code",
   "execution_count": 140,
   "metadata": {},
   "outputs": [
    {
     "name": "stdout",
     "output_type": "stream",
     "text": [
      "[0, 0.69833729609374995, 1, 0.25728216171875012, 2, 0.040623499218750039, 3, 0.0035634648437500001, 4, 0.00018755078124999986, 5, 5.922656250000019e-06, 6, 1.0390624999999968e-07, 7, 7.8125000000000038e-10]\n"
     ]
    }
   ],
   "source": [
    "L = []\n",
    "Py = []\n",
    "\n",
    "for i in range(n+1):\n",
    "    P = stats.binom.pmf(i, n, p)\n",
    "    L.append(i)\n",
    "    L.append(P)\n",
    "    Py.append(L)\n",
    "\n",
    "print(Py[-1])"
   ]
  },
  {
   "cell_type": "code",
   "execution_count": 141,
   "metadata": {},
   "outputs": [
    {
     "data": {
      "text/plain": [
       "0.35000000000000026"
      ]
     },
     "execution_count": 141,
     "metadata": {},
     "output_type": "execute_result"
    }
   ],
   "source": [
    "c =0\n",
    "l = []\n",
    "for i in Py[-1]:    \n",
    "    if c%2 == 0:\n",
    "        num = i\n",
    "    if c%2 != 0:\n",
    "        v = num*i\n",
    "        l.append(v)\n",
    "    c +=1\n",
    "    \n",
    "Xb = sum(l)\n",
    "Xb"
   ]
  },
  {
   "cell_type": "code",
   "execution_count": 142,
   "metadata": {},
   "outputs": [
    {
     "name": "stdout",
     "output_type": "stream",
     "text": [
      "Variancia:  0.3325\n",
      "Desvio Padrão:  0.5766281297335399\n"
     ]
    }
   ],
   "source": [
    "c =0\n",
    "l = []\n",
    "for i in Py[-1]:    \n",
    "    if c%2 == 0:\n",
    "        oo = (i-Xb)**2\n",
    "    if c%2 != 0:\n",
    "        v = i*oo\n",
    "        l.append(v)\n",
    "        \n",
    "    c +=1\n",
    "\n",
    "var = sum(l)\n",
    "dp = math.sqrt(var)\n",
    "print(\"Variancia: \",var)\n",
    "print(\"Desvio Padrão: \",dp)"
   ]
  },
  {
   "cell_type": "code",
   "execution_count": 143,
   "metadata": {},
   "outputs": [
    {
     "name": "stdout",
     "output_type": "stream",
     "text": [
      "(array(0.35000000000000003), array(0.3325))\n",
      "Média:  0.35000000000000003\n",
      "Variancia:  0.3325\n",
      "Desvio Padrão:  0.5766281297335399\n"
     ]
    }
   ],
   "source": [
    "print(stats.binom.stats(n, p, moments='mv'))\n",
    "\n",
    "M = n * p #media\n",
    "print(\"Média: \",M)\n",
    "\n",
    "c =0\n",
    "l = []\n",
    "for i in Py[-1]:    \n",
    "    if c%2 == 0:\n",
    "        oo = (i-M)**2\n",
    "    if c%2 != 0:\n",
    "        v = i*oo\n",
    "        l.append(v)\n",
    "        \n",
    "    c +=1\n",
    "\n",
    "var = sum(l)\n",
    "dp = math.sqrt(var)\n",
    "print(\"Variancia: \",var)\n",
    "print(\"Desvio Padrão: \",dp)"
   ]
  },
  {
   "cell_type": "markdown",
   "metadata": {},
   "source": [
    "Novamente, a média é n vezes p e, porém a Var é maior, mostrando uma maior dispersão em relação ao primeiro pacote, uma vez que existem mais resistores"
   ]
  },
  {
   "cell_type": "code",
   "execution_count": 144,
   "metadata": {},
   "outputs": [
    {
     "name": "stdout",
     "output_type": "stream",
     "text": [
      "(array(5.0), array(4.75))\n"
     ]
    },
    {
     "data": {
      "text/plain": [
       "0.99999999999999989"
      ]
     },
     "execution_count": 144,
     "metadata": {},
     "output_type": "execute_result"
    }
   ],
   "source": [
    "#3\n",
    "n = 100\n",
    "\n",
    "print(stats.binom.stats(n, p, moments='mv'))\n",
    "\n",
    "stats.binom.cdf(50, n, p)"
   ]
  },
  {
   "cell_type": "markdown",
   "metadata": {},
   "source": [
    "### EX1 da AULA 12"
   ]
  },
  {
   "cell_type": "code",
   "execution_count": 135,
   "metadata": {},
   "outputs": [
    {
     "data": {
      "text/plain": [
       "0.23403270759257819"
      ]
     },
     "execution_count": 135,
     "metadata": {},
     "output_type": "execute_result"
    }
   ],
   "source": [
    "\n",
    "#a\n",
    "p = 0.55\n",
    "n = 10\n",
    "y = 5\n",
    "x5 = stats.binom.pmf(y, n, p)\n",
    "x5"
   ]
  },
  {
   "cell_type": "code",
   "execution_count": 136,
   "metadata": {},
   "outputs": [
    {
     "data": {
      "text/plain": [
       "0.97260816073867185"
      ]
     },
     "execution_count": 136,
     "metadata": {},
     "output_type": "execute_result"
    }
   ],
   "source": [
    "#b\n",
    "y3 = 1-stats.binom.cdf(3-1, n, p)\n",
    "y3"
   ]
  },
  {
   "cell_type": "code",
   "execution_count": 137,
   "metadata": {},
   "outputs": [
    {
     "data": {
      "text/plain": [
       "0.73843729924550816"
      ]
     },
     "execution_count": 137,
     "metadata": {},
     "output_type": "execute_result"
    }
   ],
   "source": [
    "#c\n",
    "y5 = 1-stats.binom.cdf(y-1, n, p)\n",
    "y5"
   ]
  },
  {
   "cell_type": "code",
   "execution_count": 138,
   "metadata": {},
   "outputs": [
    {
     "name": "stdout",
     "output_type": "stream",
     "text": [
      "Média:  5.5\n",
      "Desvio Padrão:  2.345207879911715\n"
     ]
    }
   ],
   "source": [
    "#d\n",
    "import math\n",
    "\n",
    "EVar = stats.binom.stats(n, p, moments='mv')\n",
    "\n",
    "print(\"Média: \",EVar[0])\n",
    "dp = math.sqrt(EVar[0])\n",
    "print(\"Desvio Padrão: \",dp)"
   ]
  },
  {
   "cell_type": "code",
   "execution_count": null,
   "metadata": {
    "collapsed": true
   },
   "outputs": [],
   "source": []
  },
  {
   "cell_type": "code",
   "execution_count": null,
   "metadata": {
    "collapsed": true
   },
   "outputs": [],
   "source": []
  }
 ],
 "metadata": {
  "anaconda-cloud": {},
  "kernelspec": {
   "display_name": "Python 3",
   "language": "python",
   "name": "python3"
  },
  "language_info": {
   "codemirror_mode": {
    "name": "ipython",
    "version": 3
   },
   "file_extension": ".py",
   "mimetype": "text/x-python",
   "name": "python",
   "nbconvert_exporter": "python",
   "pygments_lexer": "ipython3",
   "version": "3.6.0"
  }
 },
 "nbformat": 4,
 "nbformat_minor": 1
}
