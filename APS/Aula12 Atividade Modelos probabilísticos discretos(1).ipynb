{
 "cells": [
  {
   "cell_type": "markdown",
   "metadata": {},
   "source": [
    " ___\n",
    "# Atividade: Modelos probabilísticos discretos\n",
    "___\n",
    "\n",
    "## Aula 12\n",
    "\n",
    "**Referência de Leitura:**\n",
    "1. Magalhães e Lima (7ª. Edição): Seções 3.2 e 3.3\n",
    "\n",
    "**Hoje:**\n",
    "1.\tDescrever modelos discretos quanto aos resultados teóricos.\n",
    "2.\tExplicar a utilização de modelos probabilísticos no contexto da literatura estatística.\n",
    "3.\tContrastar resultados teóricos e empíricos.\n",
    "4.\tFechamento do conteúdo.\n",
    "\n",
    "**Próxima aula:**\n",
    "1. Leitura prévia necessária: Magalhães e Lima (7ª. Edição): Capítulo 6 - Seção 6.1.\n",
    "\n",
    "___"
   ]
  },
  {
   "cell_type": "code",
   "execution_count": 147,
   "metadata": {
    "collapsed": true
   },
   "outputs": [],
   "source": [
    "%matplotlib inline\n",
    "import pandas as pd\n",
    "import matplotlib.pyplot as plt\n",
    "import math\n",
    "from scipy import stats #importa apenas as funções de estatísticas da biblioteca SciPy.\n",
    "import itertools #importante para gerar todos os resultados possíveis!!\n"
   ]
  },
  {
   "cell_type": "markdown",
   "metadata": {},
   "source": [
    "___\n",
    "## <font color='blue'>Exercício 1</font>\n",
    "\n",
    "### <font color='red'>**Publicar no github até dia 10/04 INDIVIDUAL **</font>\n",
    "\n",
    "\n",
    "#### Este exercício irá explorar  construção de árvore de probabilidades com eventos e construção da distribuição de probabilidades de uma variável aleatória discreta. Ainda, irá explorar o modelo de distribuição probabilística Binomial\n",
    "\n",
    "Um resistor de 100K Ohms comprado na Santa Efigênia tem probabilidade de falha de 5%, segundo um fabricante ruim.\n",
    "\n",
    "Ainda, por suposição, admita que os resistores falhem de forma independente entre si.\n",
    "\n",
    "Um aluno de engenharia compra um pacote contendo $n$ resistores.\n",
    "\n",
    "1. Assuma $n=3$ e faça os itens a seguir.\n",
    "  1. Monte o espaço amostral que combine todos os resultados possíveis de Falha e não Falha desses $n$ resistores. Ainda, calcule a probabilidade de cada resultado do espaço amostral acontecer.\n",
    "  2. Se $Y$ representa o número de resistores que falham em um pacotinho com $n$ resistores, então construa a distribuição de probabilidades de $Y$.\n",
    "  3. Calcule a média e o desvio padrão de $Y$. Interprete os resultados.\n",
    "  4. Utilizando o modelo probabilístico da distribuição Binomial, encontre a distribuição de probabilidades de cada possível valor de $Y$. Calcule também $E(Y)$ e $Var(Y)$. Compare com as distribuições de probabilidades obtidas nos itens anteriores e discuta porque esses valores são iguais ou diferentes!\n",
    "   \n",
    "2. Assuma $n=7$ e repita os itens A) a D) anteriores. No caso de $n=7$ ou maiores quantidades de resistores em um pacotinho, qual a viabilidade de construir a distribuição de probabilidades do número de resistores com defeitos quando $n$ não é pequeno seguindo os itens de A) a C)?\n",
    " \n",
    "3. Com $n=100$, por exemplo, é extremamente inviável a construção de árvore de probabilidades até mesmo utilizando a poderosa ferramenta Python. \n",
    "  1. No caso assuma $n=100$ e repita o item 1.D) anterior. \n",
    "  2. Ainda, calcule a probabilidade de, em um pacote com 100 resistores, pelo menos a metade deles apresentarem falha?\n",
    "\n",
    "\n",
    "A seguir, um resumo sobre o modelo teórico Binomial!    \n",
    "> \n",
    "\n",
    "> **DISTRIBUIÇÃO BINOMIAL - TEORIA:**\n",
    "\n",
    "> É responsável por modelar uma variável $Y$ definida pelo Número de sucessos em $n$ tentativas, cuja probabilidade de sucesso é dada por $p$. Assim, dizemos que $Y$~$Bin(n,p)$ e lê-se: $Y$ segue uma distribuição binomial com $n$ tentativas e $p$ como probabilidade de sucesso. \n",
    "\n",
    "> A função de probabilidade nesse caso é dada por:\n",
    "$P(Y=y)=\\left(\n",
    "\\begin{array}{c}\n",
    "    n \\\\\n",
    "    y\n",
    "\\end{array}\\right) p^y (1-p)^{(n-y)}$\n",
    "\n",
    "> Para um experimento ter as probabilidade dos números de sucessos modeladas por uma distribuição Binomial, o mesmo precisa ter as seguintes propriedades:\n",
    "* é uma contagem de $n$ repetições (ou tentativas ou ensaios) idênticas;\n",
    "* cada repetição tem apenas 2 resultados possíveis: um é denominado sucesso e o outro, fracasso;\n",
    "* a probabilidade de sucesso para cada ensaio é denominada $p$ e será constante em cada repetição. Então, a probabilidade de fracasso $(1-p)$ também não varia de tentativa para tentativa;\n",
    "* As tentativas são independentes.\n",
    "\n",
    "\n",
    "> **DISTRIBUIÇÃO BINOMIAL - PYTHON:** <sup> [https://en.wikipedia.org/wiki/SciPy]\n",
    "\n",
    "> Algumas funções úteis para desenvolver seu código: <sup> [http://docs.scipy.org/doc/scipy-0.16.1/reference/generated/scipy.stats.binom.html]\n",
    "* $P(Y=y)$: `stats.binom.pmf(y, n, p)`\n",
    "* $P(Y\\leq y)$: `stats.binom.cdf(y, n, p)`\n",
    "* $E(Y)$ e $Var(Y)$: `stats.binom.stats(n, p, moments='mv')`\n",
    "\n"
   ]
  },
  {
   "cell_type": "code",
   "execution_count": 148,
   "metadata": {},
   "outputs": [
    {
     "data": {
      "text/plain": [
       "[('F', 'F', 'F'),\n",
       " ('F', 'F', 'NF'),\n",
       " ('F', 'NF', 'F'),\n",
       " ('F', 'NF', 'NF'),\n",
       " ('NF', 'F', 'F'),\n",
       " ('NF', 'F', 'NF'),\n",
       " ('NF', 'NF', 'F'),\n",
       " ('NF', 'NF', 'NF')]"
      ]
     },
     "execution_count": 148,
     "metadata": {},
     "output_type": "execute_result"
    }
   ],
   "source": [
    "import itertools\n",
    "possibilidades = [\"F\", \"NF\"]#Falha e Não Falha\n",
    "prob = {\"F\": 0.05, \"NF\":0.95}\n",
    "n = 3\n",
    "\n",
    "arranjos = itertools.product(possibilidades, repeat=n)\n",
    "espaco_amostral = list(arranjos)\n",
    "espaco_amostral"
   ]
  },
  {
   "cell_type": "code",
   "execution_count": 149,
   "metadata": {
    "scrolled": true
   },
   "outputs": [
    {
     "name": "stdout",
     "output_type": "stream",
     "text": [
      "Probabilidade de  ('F', 'F', 'F')  é igual a  0.00013\n",
      "Probabilidade de  ('F', 'F', 'NF')  é igual a  0.00238\n",
      "Probabilidade de  ('F', 'NF', 'F')  é igual a  0.00238\n",
      "Probabilidade de  ('F', 'NF', 'NF')  é igual a  0.04512\n",
      "Probabilidade de  ('NF', 'F', 'F')  é igual a  0.00238\n",
      "Probabilidade de  ('NF', 'F', 'NF')  é igual a  0.04512\n",
      "Probabilidade de  ('NF', 'NF', 'F')  é igual a  0.04512\n",
      "Probabilidade de  ('NF', 'NF', 'NF')  é igual a  0.85737\n"
     ]
    }
   ],
   "source": [
    "prob_linhas = []\n",
    "\n",
    "for res in espaco_amostral:\n",
    "    p = 1.0\n",
    "    for e in res:\n",
    "        p*=prob[e]\n",
    "    prob_linhas.append(p)\n",
    "    print(\"Probabilidade de \",res,\" é igual a \",\"%3.5f\"%p)"
   ]
  },
  {
   "cell_type": "code",
   "execution_count": 150,
   "metadata": {},
   "outputs": [],
   "source": [
    "n, p = 3, 0.05"
   ]
  },
  {
   "cell_type": "code",
   "execution_count": 151,
   "metadata": {},
   "outputs": [
    {
     "name": "stdout",
     "output_type": "stream",
     "text": [
      "[0, 0.857375, 1, 0.135375, 2, 0.0071250000000000072, 3, 0.000125]\n"
     ]
    }
   ],
   "source": [
    "L = []\n",
    "Py = []\n",
    "\n",
    "for i in range(n+1):\n",
    "    P = stats.binom.pmf(i, n, p)\n",
    "    L.append(i)\n",
    "    L.append(P)\n",
    "    Py.append(L)\n",
    "\n",
    "print(Py[-1])"
   ]
  },
  {
   "cell_type": "code",
   "execution_count": 152,
   "metadata": {},
   "outputs": [
    {
     "data": {
      "text/plain": [
       "0.14999999999999999"
      ]
     },
     "execution_count": 152,
     "metadata": {},
     "output_type": "execute_result"
    }
   ],
   "source": [
    "c =0\n",
    "l = []\n",
    "for i in Py[-1]:    \n",
    "    if c%2 == 0:\n",
    "        num = i\n",
    "    if c%2 != 0:\n",
    "        v = num*i\n",
    "        l.append(v)\n",
    "    c +=1\n",
    "    \n",
    "Xb = sum(l)\n",
    "Xb"
   ]
  },
  {
   "cell_type": "code",
   "execution_count": 153,
   "metadata": {},
   "outputs": [
    {
     "name": "stdout",
     "output_type": "stream",
     "text": [
      "Variancia:  0.1425\n",
      "Desvio Padrão:  0.3774917217635375\n"
     ]
    }
   ],
   "source": [
    "c =0\n",
    "l = []\n",
    "for i in Py[-1]:    \n",
    "    if c%2 == 0:\n",
    "        oo = (i-Xb)**2\n",
    "    if c%2 != 0:\n",
    "        v = i*oo\n",
    "        l.append(v)\n",
    "        \n",
    "    c +=1\n",
    "\n",
    "var = sum(l)\n",
    "dp = math.sqrt(var)\n",
    "print(\"Variancia: \",var)\n",
    "print(\"Desvio Padrão: \",dp)"
   ]
  },
  {
   "cell_type": "code",
   "execution_count": 154,
   "metadata": {},
   "outputs": [
    {
     "name": "stdout",
     "output_type": "stream",
     "text": [
      "(array(0.15000000000000002), array(0.14250000000000002))\n",
      "Média:  0.15000000000000002\n",
      "Variancia:  0.1425\n",
      "Desvio Padrão:  0.3774917217635375\n"
     ]
    }
   ],
   "source": [
    "print(stats.binom.stats(n, p, moments='mv'))\n",
    "\n",
    "M = n * p #media\n",
    "print(\"Média: \",M)\n",
    "\n",
    "c =0\n",
    "l = []\n",
    "for i in Py[-1]:    \n",
    "    if c%2 == 0:\n",
    "        oo = (i-M)**2\n",
    "    if c%2 != 0:\n",
    "        v = i*oo\n",
    "        l.append(v)\n",
    "        \n",
    "    c +=1\n",
    "\n",
    "var = sum(l)\n",
    "dp = math.sqrt(var)\n",
    "print(\"Variancia: \",var)\n",
    "print(\"Desvio Padrão: \",dp)"
   ]
  },
  {
   "cell_type": "markdown",
   "metadata": {},
   "source": [
    "A media de resistores com falhas por pacote é 0.15, como a falha ou não falha são independentes, a media é a probabilidade de falha vezes n, a variancia mostra que a dispersão de relativamente pequena e é igual a calculada anteriormente."
   ]
  },
  {
   "cell_type": "code",
   "execution_count": 155,
   "metadata": {
    "scrolled": true
   },
   "outputs": [
    {
     "name": "stdout",
     "output_type": "stream",
     "text": [
      "Probabilidade de  ('F', 'F', 'F', 'F', 'F', 'F', 'F')  é igual a  0.00000\n",
      "Probabilidade de  ('F', 'F', 'F', 'F', 'F', 'F', 'NF')  é igual a  0.00000\n",
      "Probabilidade de  ('F', 'F', 'F', 'F', 'F', 'NF', 'F')  é igual a  0.00000\n",
      "Probabilidade de  ('F', 'F', 'F', 'F', 'F', 'NF', 'NF')  é igual a  0.00000\n",
      "Probabilidade de  ('F', 'F', 'F', 'F', 'NF', 'F', 'F')  é igual a  0.00000\n",
      "Probabilidade de  ('F', 'F', 'F', 'F', 'NF', 'F', 'NF')  é igual a  0.00000\n",
      "Probabilidade de  ('F', 'F', 'F', 'F', 'NF', 'NF', 'F')  é igual a  0.00000\n",
      "Probabilidade de  ('F', 'F', 'F', 'F', 'NF', 'NF', 'NF')  é igual a  0.00001\n",
      "Probabilidade de  ('F', 'F', 'F', 'NF', 'F', 'F', 'F')  é igual a  0.00000\n",
      "Probabilidade de  ('F', 'F', 'F', 'NF', 'F', 'F', 'NF')  é igual a  0.00000\n",
      "Probabilidade de  ('F', 'F', 'F', 'NF', 'F', 'NF', 'F')  é igual a  0.00000\n",
      "Probabilidade de  ('F', 'F', 'F', 'NF', 'F', 'NF', 'NF')  é igual a  0.00001\n",
      "Probabilidade de  ('F', 'F', 'F', 'NF', 'NF', 'F', 'F')  é igual a  0.00000\n",
      "Probabilidade de  ('F', 'F', 'F', 'NF', 'NF', 'F', 'NF')  é igual a  0.00001\n",
      "Probabilidade de  ('F', 'F', 'F', 'NF', 'NF', 'NF', 'F')  é igual a  0.00001\n",
      "Probabilidade de  ('F', 'F', 'F', 'NF', 'NF', 'NF', 'NF')  é igual a  0.00010\n",
      "Probabilidade de  ('F', 'F', 'NF', 'F', 'F', 'F', 'F')  é igual a  0.00000\n",
      "Probabilidade de  ('F', 'F', 'NF', 'F', 'F', 'F', 'NF')  é igual a  0.00000\n",
      "Probabilidade de  ('F', 'F', 'NF', 'F', 'F', 'NF', 'F')  é igual a  0.00000\n",
      "Probabilidade de  ('F', 'F', 'NF', 'F', 'F', 'NF', 'NF')  é igual a  0.00001\n",
      "Probabilidade de  ('F', 'F', 'NF', 'F', 'NF', 'F', 'F')  é igual a  0.00000\n",
      "Probabilidade de  ('F', 'F', 'NF', 'F', 'NF', 'F', 'NF')  é igual a  0.00001\n",
      "Probabilidade de  ('F', 'F', 'NF', 'F', 'NF', 'NF', 'F')  é igual a  0.00001\n",
      "Probabilidade de  ('F', 'F', 'NF', 'F', 'NF', 'NF', 'NF')  é igual a  0.00010\n",
      "Probabilidade de  ('F', 'F', 'NF', 'NF', 'F', 'F', 'F')  é igual a  0.00000\n",
      "Probabilidade de  ('F', 'F', 'NF', 'NF', 'F', 'F', 'NF')  é igual a  0.00001\n",
      "Probabilidade de  ('F', 'F', 'NF', 'NF', 'F', 'NF', 'F')  é igual a  0.00001\n",
      "Probabilidade de  ('F', 'F', 'NF', 'NF', 'F', 'NF', 'NF')  é igual a  0.00010\n",
      "Probabilidade de  ('F', 'F', 'NF', 'NF', 'NF', 'F', 'F')  é igual a  0.00001\n",
      "Probabilidade de  ('F', 'F', 'NF', 'NF', 'NF', 'F', 'NF')  é igual a  0.00010\n",
      "Probabilidade de  ('F', 'F', 'NF', 'NF', 'NF', 'NF', 'F')  é igual a  0.00010\n",
      "Probabilidade de  ('F', 'F', 'NF', 'NF', 'NF', 'NF', 'NF')  é igual a  0.00193\n",
      "Probabilidade de  ('F', 'NF', 'F', 'F', 'F', 'F', 'F')  é igual a  0.00000\n",
      "Probabilidade de  ('F', 'NF', 'F', 'F', 'F', 'F', 'NF')  é igual a  0.00000\n",
      "Probabilidade de  ('F', 'NF', 'F', 'F', 'F', 'NF', 'F')  é igual a  0.00000\n",
      "Probabilidade de  ('F', 'NF', 'F', 'F', 'F', 'NF', 'NF')  é igual a  0.00001\n",
      "Probabilidade de  ('F', 'NF', 'F', 'F', 'NF', 'F', 'F')  é igual a  0.00000\n",
      "Probabilidade de  ('F', 'NF', 'F', 'F', 'NF', 'F', 'NF')  é igual a  0.00001\n",
      "Probabilidade de  ('F', 'NF', 'F', 'F', 'NF', 'NF', 'F')  é igual a  0.00001\n",
      "Probabilidade de  ('F', 'NF', 'F', 'F', 'NF', 'NF', 'NF')  é igual a  0.00010\n",
      "Probabilidade de  ('F', 'NF', 'F', 'NF', 'F', 'F', 'F')  é igual a  0.00000\n",
      "Probabilidade de  ('F', 'NF', 'F', 'NF', 'F', 'F', 'NF')  é igual a  0.00001\n",
      "Probabilidade de  ('F', 'NF', 'F', 'NF', 'F', 'NF', 'F')  é igual a  0.00001\n",
      "Probabilidade de  ('F', 'NF', 'F', 'NF', 'F', 'NF', 'NF')  é igual a  0.00010\n",
      "Probabilidade de  ('F', 'NF', 'F', 'NF', 'NF', 'F', 'F')  é igual a  0.00001\n",
      "Probabilidade de  ('F', 'NF', 'F', 'NF', 'NF', 'F', 'NF')  é igual a  0.00010\n",
      "Probabilidade de  ('F', 'NF', 'F', 'NF', 'NF', 'NF', 'F')  é igual a  0.00010\n",
      "Probabilidade de  ('F', 'NF', 'F', 'NF', 'NF', 'NF', 'NF')  é igual a  0.00193\n",
      "Probabilidade de  ('F', 'NF', 'NF', 'F', 'F', 'F', 'F')  é igual a  0.00000\n",
      "Probabilidade de  ('F', 'NF', 'NF', 'F', 'F', 'F', 'NF')  é igual a  0.00001\n",
      "Probabilidade de  ('F', 'NF', 'NF', 'F', 'F', 'NF', 'F')  é igual a  0.00001\n",
      "Probabilidade de  ('F', 'NF', 'NF', 'F', 'F', 'NF', 'NF')  é igual a  0.00010\n",
      "Probabilidade de  ('F', 'NF', 'NF', 'F', 'NF', 'F', 'F')  é igual a  0.00001\n",
      "Probabilidade de  ('F', 'NF', 'NF', 'F', 'NF', 'F', 'NF')  é igual a  0.00010\n",
      "Probabilidade de  ('F', 'NF', 'NF', 'F', 'NF', 'NF', 'F')  é igual a  0.00010\n",
      "Probabilidade de  ('F', 'NF', 'NF', 'F', 'NF', 'NF', 'NF')  é igual a  0.00193\n",
      "Probabilidade de  ('F', 'NF', 'NF', 'NF', 'F', 'F', 'F')  é igual a  0.00001\n",
      "Probabilidade de  ('F', 'NF', 'NF', 'NF', 'F', 'F', 'NF')  é igual a  0.00010\n",
      "Probabilidade de  ('F', 'NF', 'NF', 'NF', 'F', 'NF', 'F')  é igual a  0.00010\n",
      "Probabilidade de  ('F', 'NF', 'NF', 'NF', 'F', 'NF', 'NF')  é igual a  0.00193\n",
      "Probabilidade de  ('F', 'NF', 'NF', 'NF', 'NF', 'F', 'F')  é igual a  0.00010\n",
      "Probabilidade de  ('F', 'NF', 'NF', 'NF', 'NF', 'F', 'NF')  é igual a  0.00193\n",
      "Probabilidade de  ('F', 'NF', 'NF', 'NF', 'NF', 'NF', 'F')  é igual a  0.00193\n",
      "Probabilidade de  ('F', 'NF', 'NF', 'NF', 'NF', 'NF', 'NF')  é igual a  0.03675\n",
      "Probabilidade de  ('NF', 'F', 'F', 'F', 'F', 'F', 'F')  é igual a  0.00000\n",
      "Probabilidade de  ('NF', 'F', 'F', 'F', 'F', 'F', 'NF')  é igual a  0.00000\n",
      "Probabilidade de  ('NF', 'F', 'F', 'F', 'F', 'NF', 'F')  é igual a  0.00000\n",
      "Probabilidade de  ('NF', 'F', 'F', 'F', 'F', 'NF', 'NF')  é igual a  0.00001\n",
      "Probabilidade de  ('NF', 'F', 'F', 'F', 'NF', 'F', 'F')  é igual a  0.00000\n",
      "Probabilidade de  ('NF', 'F', 'F', 'F', 'NF', 'F', 'NF')  é igual a  0.00001\n",
      "Probabilidade de  ('NF', 'F', 'F', 'F', 'NF', 'NF', 'F')  é igual a  0.00001\n",
      "Probabilidade de  ('NF', 'F', 'F', 'F', 'NF', 'NF', 'NF')  é igual a  0.00010\n",
      "Probabilidade de  ('NF', 'F', 'F', 'NF', 'F', 'F', 'F')  é igual a  0.00000\n",
      "Probabilidade de  ('NF', 'F', 'F', 'NF', 'F', 'F', 'NF')  é igual a  0.00001\n",
      "Probabilidade de  ('NF', 'F', 'F', 'NF', 'F', 'NF', 'F')  é igual a  0.00001\n",
      "Probabilidade de  ('NF', 'F', 'F', 'NF', 'F', 'NF', 'NF')  é igual a  0.00010\n",
      "Probabilidade de  ('NF', 'F', 'F', 'NF', 'NF', 'F', 'F')  é igual a  0.00001\n",
      "Probabilidade de  ('NF', 'F', 'F', 'NF', 'NF', 'F', 'NF')  é igual a  0.00010\n",
      "Probabilidade de  ('NF', 'F', 'F', 'NF', 'NF', 'NF', 'F')  é igual a  0.00010\n",
      "Probabilidade de  ('NF', 'F', 'F', 'NF', 'NF', 'NF', 'NF')  é igual a  0.00193\n",
      "Probabilidade de  ('NF', 'F', 'NF', 'F', 'F', 'F', 'F')  é igual a  0.00000\n",
      "Probabilidade de  ('NF', 'F', 'NF', 'F', 'F', 'F', 'NF')  é igual a  0.00001\n",
      "Probabilidade de  ('NF', 'F', 'NF', 'F', 'F', 'NF', 'F')  é igual a  0.00001\n",
      "Probabilidade de  ('NF', 'F', 'NF', 'F', 'F', 'NF', 'NF')  é igual a  0.00010\n",
      "Probabilidade de  ('NF', 'F', 'NF', 'F', 'NF', 'F', 'F')  é igual a  0.00001\n",
      "Probabilidade de  ('NF', 'F', 'NF', 'F', 'NF', 'F', 'NF')  é igual a  0.00010\n",
      "Probabilidade de  ('NF', 'F', 'NF', 'F', 'NF', 'NF', 'F')  é igual a  0.00010\n",
      "Probabilidade de  ('NF', 'F', 'NF', 'F', 'NF', 'NF', 'NF')  é igual a  0.00193\n",
      "Probabilidade de  ('NF', 'F', 'NF', 'NF', 'F', 'F', 'F')  é igual a  0.00001\n",
      "Probabilidade de  ('NF', 'F', 'NF', 'NF', 'F', 'F', 'NF')  é igual a  0.00010\n",
      "Probabilidade de  ('NF', 'F', 'NF', 'NF', 'F', 'NF', 'F')  é igual a  0.00010\n",
      "Probabilidade de  ('NF', 'F', 'NF', 'NF', 'F', 'NF', 'NF')  é igual a  0.00193\n",
      "Probabilidade de  ('NF', 'F', 'NF', 'NF', 'NF', 'F', 'F')  é igual a  0.00010\n",
      "Probabilidade de  ('NF', 'F', 'NF', 'NF', 'NF', 'F', 'NF')  é igual a  0.00193\n",
      "Probabilidade de  ('NF', 'F', 'NF', 'NF', 'NF', 'NF', 'F')  é igual a  0.00193\n",
      "Probabilidade de  ('NF', 'F', 'NF', 'NF', 'NF', 'NF', 'NF')  é igual a  0.03675\n",
      "Probabilidade de  ('NF', 'NF', 'F', 'F', 'F', 'F', 'F')  é igual a  0.00000\n",
      "Probabilidade de  ('NF', 'NF', 'F', 'F', 'F', 'F', 'NF')  é igual a  0.00001\n",
      "Probabilidade de  ('NF', 'NF', 'F', 'F', 'F', 'NF', 'F')  é igual a  0.00001\n",
      "Probabilidade de  ('NF', 'NF', 'F', 'F', 'F', 'NF', 'NF')  é igual a  0.00010\n",
      "Probabilidade de  ('NF', 'NF', 'F', 'F', 'NF', 'F', 'F')  é igual a  0.00001\n",
      "Probabilidade de  ('NF', 'NF', 'F', 'F', 'NF', 'F', 'NF')  é igual a  0.00010\n",
      "Probabilidade de  ('NF', 'NF', 'F', 'F', 'NF', 'NF', 'F')  é igual a  0.00010\n",
      "Probabilidade de  ('NF', 'NF', 'F', 'F', 'NF', 'NF', 'NF')  é igual a  0.00193\n",
      "Probabilidade de  ('NF', 'NF', 'F', 'NF', 'F', 'F', 'F')  é igual a  0.00001\n",
      "Probabilidade de  ('NF', 'NF', 'F', 'NF', 'F', 'F', 'NF')  é igual a  0.00010\n",
      "Probabilidade de  ('NF', 'NF', 'F', 'NF', 'F', 'NF', 'F')  é igual a  0.00010\n",
      "Probabilidade de  ('NF', 'NF', 'F', 'NF', 'F', 'NF', 'NF')  é igual a  0.00193\n",
      "Probabilidade de  ('NF', 'NF', 'F', 'NF', 'NF', 'F', 'F')  é igual a  0.00010\n",
      "Probabilidade de  ('NF', 'NF', 'F', 'NF', 'NF', 'F', 'NF')  é igual a  0.00193\n",
      "Probabilidade de  ('NF', 'NF', 'F', 'NF', 'NF', 'NF', 'F')  é igual a  0.00193\n",
      "Probabilidade de  ('NF', 'NF', 'F', 'NF', 'NF', 'NF', 'NF')  é igual a  0.03675\n",
      "Probabilidade de  ('NF', 'NF', 'NF', 'F', 'F', 'F', 'F')  é igual a  0.00001\n",
      "Probabilidade de  ('NF', 'NF', 'NF', 'F', 'F', 'F', 'NF')  é igual a  0.00010\n",
      "Probabilidade de  ('NF', 'NF', 'NF', 'F', 'F', 'NF', 'F')  é igual a  0.00010\n",
      "Probabilidade de  ('NF', 'NF', 'NF', 'F', 'F', 'NF', 'NF')  é igual a  0.00193\n",
      "Probabilidade de  ('NF', 'NF', 'NF', 'F', 'NF', 'F', 'F')  é igual a  0.00010\n",
      "Probabilidade de  ('NF', 'NF', 'NF', 'F', 'NF', 'F', 'NF')  é igual a  0.00193\n",
      "Probabilidade de  ('NF', 'NF', 'NF', 'F', 'NF', 'NF', 'F')  é igual a  0.00193\n",
      "Probabilidade de  ('NF', 'NF', 'NF', 'F', 'NF', 'NF', 'NF')  é igual a  0.03675\n",
      "Probabilidade de  ('NF', 'NF', 'NF', 'NF', 'F', 'F', 'F')  é igual a  0.00010\n",
      "Probabilidade de  ('NF', 'NF', 'NF', 'NF', 'F', 'F', 'NF')  é igual a  0.00193\n",
      "Probabilidade de  ('NF', 'NF', 'NF', 'NF', 'F', 'NF', 'F')  é igual a  0.00193\n",
      "Probabilidade de  ('NF', 'NF', 'NF', 'NF', 'F', 'NF', 'NF')  é igual a  0.03675\n",
      "Probabilidade de  ('NF', 'NF', 'NF', 'NF', 'NF', 'F', 'F')  é igual a  0.00193\n",
      "Probabilidade de  ('NF', 'NF', 'NF', 'NF', 'NF', 'F', 'NF')  é igual a  0.03675\n",
      "Probabilidade de  ('NF', 'NF', 'NF', 'NF', 'NF', 'NF', 'F')  é igual a  0.03675\n",
      "Probabilidade de  ('NF', 'NF', 'NF', 'NF', 'NF', 'NF', 'NF')  é igual a  0.69834\n"
     ]
    }
   ],
   "source": [
    "#item 2\n",
    "n,p=7, 0.005\n",
    "arranjos = itertools.product(possibilidades, repeat=n)\n",
    "espaco_amostral = list(arranjos)\n",
    "\n",
    "prob_linhas = []\n",
    "\n",
    "for res in espaco_amostral:\n",
    "    p = 1.0\n",
    "    for e in res:\n",
    "        p*=prob[e]\n",
    "    prob_linhas.append(p)\n",
    "    print(\"Probabilidade de \",res,\" é igual a \",\"%3.5f\"%p)"
   ]
  },
  {
   "cell_type": "code",
   "execution_count": 156,
   "metadata": {},
   "outputs": [],
   "source": [
    "n,p=7, 0.05"
   ]
  },
  {
   "cell_type": "code",
   "execution_count": 157,
   "metadata": {},
   "outputs": [
    {
     "name": "stdout",
     "output_type": "stream",
     "text": [
      "[0, 0.69833729609374995, 1, 0.25728216171875012, 2, 0.040623499218750039, 3, 0.0035634648437500001, 4, 0.00018755078124999986, 5, 5.922656250000019e-06, 6, 1.0390624999999968e-07, 7, 7.8125000000000038e-10]\n"
     ]
    }
   ],
   "source": [
    "L = []\n",
    "Py = []\n",
    "\n",
    "for i in range(n+1):\n",
    "    P = stats.binom.pmf(i, n, p)\n",
    "    L.append(i)\n",
    "    L.append(P)\n",
    "    Py.append(L)\n",
    "\n",
    "print(Py[-1])"
   ]
  },
  {
   "cell_type": "code",
   "execution_count": 158,
   "metadata": {},
   "outputs": [
    {
     "data": {
      "text/plain": [
       "0.35000000000000026"
      ]
     },
     "execution_count": 158,
     "metadata": {},
     "output_type": "execute_result"
    }
   ],
   "source": [
    "c =0\n",
    "l = []\n",
    "for i in Py[-1]:    \n",
    "    if c%2 == 0:\n",
    "        num = i\n",
    "    if c%2 != 0:\n",
    "        v = num*i\n",
    "        l.append(v)\n",
    "    c +=1\n",
    "    \n",
    "Xb = sum(l)\n",
    "Xb"
   ]
  },
  {
   "cell_type": "code",
   "execution_count": 159,
   "metadata": {},
   "outputs": [
    {
     "name": "stdout",
     "output_type": "stream",
     "text": [
      "Variancia:  0.3325\n",
      "Desvio Padrão:  0.5766281297335399\n"
     ]
    }
   ],
   "source": [
    "c =0\n",
    "l = []\n",
    "for i in Py[-1]:    \n",
    "    if c%2 == 0:\n",
    "        oo = (i-Xb)**2\n",
    "    if c%2 != 0:\n",
    "        v = i*oo\n",
    "        l.append(v)\n",
    "        \n",
    "    c +=1\n",
    "\n",
    "var = sum(l)\n",
    "dp = math.sqrt(var)\n",
    "print(\"Variancia: \",var)\n",
    "print(\"Desvio Padrão: \",dp)"
   ]
  },
  {
   "cell_type": "code",
   "execution_count": 160,
   "metadata": {},
   "outputs": [
    {
     "name": "stdout",
     "output_type": "stream",
     "text": [
      "(array(0.35000000000000003), array(0.3325))\n",
      "Média:  0.35000000000000003\n",
      "Variancia:  0.3325\n",
      "Desvio Padrão:  0.5766281297335399\n"
     ]
    }
   ],
   "source": [
    "print(stats.binom.stats(n, p, moments='mv'))\n",
    "\n",
    "M = n * p #media\n",
    "print(\"Média: \",M)\n",
    "\n",
    "c =0\n",
    "l = []\n",
    "for i in Py[-1]:    \n",
    "    if c%2 == 0:\n",
    "        oo = (i-M)**2\n",
    "    if c%2 != 0:\n",
    "        v = i*oo\n",
    "        l.append(v)\n",
    "        \n",
    "    c +=1\n",
    "\n",
    "var = sum(l)\n",
    "dp = math.sqrt(var)\n",
    "print(\"Variancia: \",var)\n",
    "print(\"Desvio Padrão: \",dp)"
   ]
  },
  {
   "cell_type": "markdown",
   "metadata": {},
   "source": [
    "Novamente, a média é n vezes p e, porém a Var é maior, mostrando uma maior dispersão em relação ao primeiro pacote, uma vez que existem mais resistores"
   ]
  },
  {
   "cell_type": "code",
   "execution_count": 170,
   "metadata": {},
   "outputs": [
    {
     "name": "stdout",
     "output_type": "stream",
     "text": [
      "0 0.00592052922033\n",
      "1 0.031160680107\n",
      "2 0.0811817718578\n",
      "3 0.139575677931\n",
      "4 0.17814264157\n",
      "5 0.18001782727\n",
      "6 0.150014856059\n",
      "7 0.106025537365\n",
      "8 0.0648708879929\n",
      "9 0.034901296464\n",
      "10 0.0167158840959\n",
      "11 0.00719822760112\n",
      "12 0.00280983445833\n",
      "13 0.00100107462483\n",
      "14 0.000327419144212\n",
      "15 9.88001628147e-05\n",
      "16 2.76250455238e-05\n",
      "17 7.18422236534e-06\n",
      "18 1.74353934597e-06\n",
      "19 3.96039408227e-07\n",
      "20 8.44189264904e-08\n",
      "21 1.69261005495e-08\n",
      "22 3.19895201772e-09\n",
      "23 5.70979994009e-10\n",
      "24 9.64154814446e-11\n",
      "25 1.54264770311e-11\n",
      "26 2.34207647234e-12\n",
      "27 3.37843389772e-13\n",
      "28 4.63582094988e-14\n",
      "29 6.05769706699e-15\n",
      "30 7.54555248695e-16\n",
      "31 8.96754964494e-17\n",
      "32 1.01769889063e-17\n",
      "33 1.10372447468e-18\n",
      "34 1.14472971832e-19\n",
      "35 1.13612272796e-20\n",
      "36 1.07964879119e-21\n",
      "37 9.82895058836e-23\n",
      "38 8.57650813112e-24\n",
      "39 7.17602569675e-25\n",
      "40 5.75970483555e-26\n",
      "41 4.43622965511e-27\n",
      "42 3.27991916857e-28\n",
      "43 2.32846158846e-29\n",
      "44 1.58758744667e-30\n",
      "45 1.03982335689e-31\n",
      "46 6.54351082709e-33\n",
      "47 3.95688224706e-34\n",
      "48 2.29950393744e-35\n",
      "49 1.28436310147e-36\n",
      "50 6.89500191315e-38\n",
      "51 3.55779252484e-39\n",
      "52 1.7644922441e-40\n",
      "53 8.410687956e-42\n",
      "54 3.8528492586e-43\n",
      "55 1.6959910612e-44\n",
      "56 7.17289452575e-46\n",
      "57 2.91419537519e-47\n",
      "58 1.13711797762e-48\n",
      "59 4.26038849776e-50\n",
      "60 1.53224498604e-51\n",
      "61 5.2881621606e-53\n",
      "62 1.75074978152e-54\n",
      "63 5.55793581436e-56\n",
      "64 1.69114823299e-57\n",
      "65 4.92966286539e-59\n",
      "66 1.37590271363e-60\n",
      "67 3.67483835533e-62\n",
      "68 9.3861970376e-64\n",
      "69 2.29106258736e-65\n",
      "70 5.34007069235e-67\n",
      "71 1.18756205167e-68\n",
      "72 2.5174926534e-70\n",
      "73 5.0821769499e-72\n",
      "74 9.75951476865e-74\n",
      "75 1.78068339639e-75\n",
      "76 3.08290061701e-77\n",
      "77 5.05738993905e-79\n",
      "78 7.8488507826e-81\n",
      "79 1.15039784955e-82\n",
      "80 1.58936545003e-84\n",
      "81 2.06545217678e-86\n",
      "82 2.51884411803e-88\n",
      "83 2.87502816262e-90\n",
      "84 3.06237335617e-92\n",
      "85 3.03393025998e-94\n",
      "86 2.78512569766e-96\n",
      "87 2.35884814079e-98\n",
      "88 1.83403264535e-100\n",
      "89 1.30150158156e-102\n",
      "90 8.37223239601e-105\n",
      "91 4.8422396738e-107\n",
      "92 2.49314399681e-109\n",
      "93 1.12875789329e-111\n",
      "94 4.42402309801e-114\n",
      "95 1.47058939546e-116\n",
      "96 4.03122093054e-119\n",
      "97 8.74925866639e-122\n",
      "98 1.40965499458e-124\n",
      "99 1.49883571992e-127\n",
      "100 7.88860905221e-131\n"
     ]
    }
   ],
   "source": [
    "#3\n",
    "n = 100\n",
    "p = 0.05\n",
    "M = n*p\n",
    "for i in range(n+1):\n",
    "    print(i,stats.binom.pmf(i, n, p))\n"
   ]
  },
  {
   "cell_type": "code",
   "execution_count": 173,
   "metadata": {},
   "outputs": [
    {
     "name": "stdout",
     "output_type": "stream",
     "text": [
      "(array(5.0), array(4.75))\n",
      "5.0\n",
      "1.11022302463e-16\n"
     ]
    }
   ],
   "source": [
    "print(stats.binom.stats(n, p, moments='mv'))\n",
    "print(M)\n",
    "print(1-(stats.binom.cdf(n/2, n, p)))"
   ]
  },
  {
   "cell_type": "markdown",
   "metadata": {},
   "source": [
    "### EX1 da AULA 12"
   ]
  },
  {
   "cell_type": "code",
   "execution_count": 162,
   "metadata": {},
   "outputs": [
    {
     "data": {
      "text/plain": [
       "0.23403270759257819"
      ]
     },
     "execution_count": 162,
     "metadata": {},
     "output_type": "execute_result"
    }
   ],
   "source": [
    "\n",
    "#a\n",
    "p = 0.55\n",
    "n = 10\n",
    "y = 5\n",
    "x5 = stats.binom.pmf(y, n, p)\n",
    "x5"
   ]
  },
  {
   "cell_type": "code",
   "execution_count": 163,
   "metadata": {},
   "outputs": [
    {
     "data": {
      "text/plain": [
       "0.97260816073867185"
      ]
     },
     "execution_count": 163,
     "metadata": {},
     "output_type": "execute_result"
    }
   ],
   "source": [
    "#b\n",
    "y3 = 1-stats.binom.cdf(3-1, n, p)\n",
    "y3"
   ]
  },
  {
   "cell_type": "code",
   "execution_count": 164,
   "metadata": {},
   "outputs": [
    {
     "data": {
      "text/plain": [
       "0.73843729924550816"
      ]
     },
     "execution_count": 164,
     "metadata": {},
     "output_type": "execute_result"
    }
   ],
   "source": [
    "#c\n",
    "y5 = 1-stats.binom.cdf(y-1, n, p)\n",
    "y5"
   ]
  },
  {
   "cell_type": "code",
   "execution_count": 165,
   "metadata": {},
   "outputs": [
    {
     "name": "stdout",
     "output_type": "stream",
     "text": [
      "Média:  5.5\n",
      "Desvio Padrão:  2.345207879911715\n"
     ]
    }
   ],
   "source": [
    "#d\n",
    "import math\n",
    "\n",
    "EVar = stats.binom.stats(n, p, moments='mv')\n",
    "\n",
    "print(\"Média: \",EVar[0])\n",
    "dp = math.sqrt(EVar[0])\n",
    "print(\"Desvio Padrão: \",dp)"
   ]
  },
  {
   "cell_type": "code",
   "execution_count": null,
   "metadata": {
    "collapsed": true
   },
   "outputs": [],
   "source": []
  },
  {
   "cell_type": "code",
   "execution_count": null,
   "metadata": {
    "collapsed": true
   },
   "outputs": [],
   "source": []
  }
 ],
 "metadata": {
  "anaconda-cloud": {},
  "kernelspec": {
   "display_name": "Python 3",
   "language": "python",
   "name": "python3"
  },
  "language_info": {
   "codemirror_mode": {
    "name": "ipython",
    "version": 3
   },
   "file_extension": ".py",
   "mimetype": "text/x-python",
   "name": "python",
   "nbconvert_exporter": "python",
   "pygments_lexer": "ipython3",
   "version": "3.6.0"
  }
 },
 "nbformat": 4,
 "nbformat_minor": 1
}
