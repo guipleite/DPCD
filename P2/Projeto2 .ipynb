{
 "cells": [
  {
   "cell_type": "markdown",
   "metadata": {},
   "source": [
    "___\n",
    "# Ciência dos Dados - PROJETO 2"
   ]
  },
  {
   "cell_type": "markdown",
   "metadata": {},
   "source": [
    "___\n",
    "## Guilherme Leite\n",
    "\n",
    "## Leonardo Neves\n",
    "\n",
    "___"
   ]
  },
  {
   "cell_type": "markdown",
   "metadata": {},
   "source": [
    "___\n",
    "\n",
    "## 1. Problema\n",
    "\n",
    "O Classificador Naive-Bayes, o qual se baseia no uso do teorema de Bayes, é largamente utilizado em filtros anti-spam de e-mails. O classificador permite calcular qual a probabilidade de uma mensagem ser SPAM considerando as palavras em seu conteúdo e, de forma complementar, permite calcular a probabilidade de uma mensagem ser HAM dada as palavras descritas na mensagem.\n",
    "\n",
    "Para realizar o MVP (minimum viable product) do projeto, você precisa programar uma versão do classificador que \"aprende\" o que é uma mensagem SPAM considerando uma base de treinamento e comparar o desempenho dos resultados com uma base de testes. \n"
   ]
  },
  {
   "cell_type": "markdown",
   "metadata": {},
   "source": [
    "___\n",
    "## 2. Separação da base de dados em Treinamento e Teste\n",
    "\n",
    "A base de dados deve ser separada em duas partes, aleatoriamente, considerando: \n",
    "    \n",
    "    75% dos dados para a parte Treinamento; e\n",
    "    25% dos dados para a parte Teste."
   ]
  },
  {
   "cell_type": "code",
   "execution_count": 39,
   "metadata": {
    "collapsed": true
   },
   "outputs": [],
   "source": [
    "import pandas as pd\n",
    "import os\n",
    "import numpy as np"
   ]
  },
  {
   "cell_type": "code",
   "execution_count": 40,
   "metadata": {},
   "outputs": [
    {
     "name": "stdout",
     "output_type": "stream",
     "text": [
      "Esperamos trabalhar no diretório\n",
      "C:\\Users\\Leonardo\\OneDrive\\insper\\dps_2018\\ciencia_dos_dados\\projeto_2\\DPCD-master\\P2\n"
     ]
    }
   ],
   "source": [
    "print('Esperamos trabalhar no diretório')\n",
    "print(os.getcwd())"
   ]
  },
  {
   "cell_type": "code",
   "execution_count": 73,
   "metadata": {},
   "outputs": [],
   "source": [
    "df = pd.read_excel('spamham.xlsx') #le o arquivo\n",
    "\n",
    "df = df.replace(',','',regex=True)\n",
    "df = df.replace('@','',regex=True)\n",
    "df = df.replace(';','',regex=True)\n",
    "df = df.replace('  ','',regex=True)\n",
    "df = df.replace(':','',regex=True)\n",
    "df = df.replace('\"','',regex=True)\n",
    "df = df.replace('\\\\*','',regex=True)\n",
    "df = df.replace('\\*','',regex=True)\n",
    "df = df.replace('_','',regex=True)\n",
    "df = df.replace('\\$','',regex=True)\n",
    "df = df.replace('rt','',regex=True)\n",
    "df = df.replace('//','',regex=True)\n",
    "df = df.replace('/','',regex=True)\n",
    "df = df.replace('#','',regex=True)\n",
    "df = df.replace('\\(','',regex=True)\n",
    "df = df.replace('\\)','',regex=True)\n",
    "df = df.replace('\\'','',regex=True)\n",
    "df = df.replace('\\?','',regex=True)\n",
    "df = df.replace('\\-','',regex=True)\n",
    "df = df.replace('!','',regex=True)\n",
    "\n",
    "df = df.sample(frac=1) #Deixa o df em uma ordem aleatoria\n",
    "\n",
    "L = len(df)\n",
    "Learn = int(L*0.75) #tamanho do df de treinamento\n",
    "Test = int(L*0.25) # tamenho do df de teste\n",
    "\n",
    "dfLearn = df.iloc[0:Learn] #df de treinamento\n",
    "dfLearn = dfLearn.reset_index(drop=True)\n",
    "\n",
    "dfTest = df.iloc[Learn:L] #df de teste\n",
    "dfTest = dfTest.reset_index(drop=True)\n"
   ]
  },
  {
   "cell_type": "code",
   "execution_count": 72,
   "metadata": {
    "collapsed": true
   },
   "outputs": [],
   "source": []
  },
  {
   "cell_type": "code",
   "execution_count": 74,
   "metadata": {
    "collapsed": true
   },
   "outputs": [],
   "source": [
    "Ham = []\n",
    "Spam =[]\n",
    "NSpam = 0\n",
    "\n",
    "for index, row in dfLearn.iterrows(): #Percorre o df linha por linha\n",
    "    if row['Class'] == 'spam':\n",
    "        linha = row['Email']\n",
    "        Linha = linha.split() #Separa as palavras do conteúdo do email\n",
    "        NSpam +=1 #Adiciona +1 ao numero de emails de Spam\n",
    "        for palavra in Linha:\n",
    "            Hm = []\n",
    "            for letra in palavra:  #Separa as letras das palavras\n",
    "                if letra.isalpha() == True: # Se a letrea é alfabética:\n",
    "                    Hm.append(letra) \n",
    "            hm  = ''.join(Hm) #Junta as letras em palavra\n",
    "            if len(hm)>1: # Filtra palavras com menos de duas Letras\n",
    "                Spam.append(hm)\n",
    "    else:\n",
    "        linha = str(row['Email'])\n",
    "        Linha = linha.split()  #Separa as palavras do conteúdo do email\n",
    "        for palavra in Linha:\n",
    "            Hm = []\n",
    "            for letra in palavra:\n",
    "                if letra.isalpha() == True: # Se a letrea é alfabética:\n",
    "                    Hm.append(letra)\n",
    "            hm  = ''.join(Hm) #Junta as letras em palavra\n",
    "            if len(hm)>1: # Filtra palavras com menos de duas Letras\n",
    "                Ham.append(hm)"
   ]
  },
  {
   "cell_type": "code",
   "execution_count": 75,
   "metadata": {},
   "outputs": [
    {
     "name": "stdout",
     "output_type": "stream",
     "text": [
      "['Hi', 'its', 'LUCY', 'Hubby', 'at', 'meetins', 'all', 'day', 'Fri', 'will']\n"
     ]
    }
   ],
   "source": [
    "print(Spam[0:10])"
   ]
  },
  {
   "cell_type": "markdown",
   "metadata": {
    "collapsed": true
   },
   "source": []
  },
  {
   "cell_type": "markdown",
   "metadata": {},
   "source": [
    "___\n",
    "## 3. Classificador Naive-Bayes"
   ]
  },
  {
   "cell_type": "code",
   "execution_count": 76,
   "metadata": {},
   "outputs": [
    {
     "name": "stdout",
     "output_type": "stream",
     "text": [
      "Probabilidade de uma mensagem ser SPAM:  0.1255980861244019 \n",
      "Probabilidade de uma mensagem ser HAM:  0.8744019138755981\n"
     ]
    }
   ],
   "source": [
    "P_Spam = NSpam/len(dfLearn) #Probabilidade de uma mensagem ser SPAM \n",
    "P_Ham = 1-P_Spam #Probabilidade de uma mensagem ser HAM\n",
    "print('Probabilidade de uma mensagem ser SPAM: ',P_Spam, \n",
    "      '\\nProbabilidade de uma mensagem ser HAM: ',P_Ham)"
   ]
  },
  {
   "cell_type": "code",
   "execution_count": 115,
   "metadata": {},
   "outputs": [
    {
     "data": {
      "text/plain": [
       "2       Do you want a New Nokia 3510i colour phone Del...\n",
       "3       87077 Kick off a new season with 2wks FREE goa...\n",
       "4       44 7732584351 Do you want a New Nokia 3510i co...\n",
       "22      09066362231 URGENT Your mobile No 07xxxxxxxxx ...\n",
       "44      Eerie Nokia tones 4u rply TONE TITLE to 8007 e...\n",
       "46      cmon babe make me horny turn me on Txt me your...\n",
       "54      URGENT Your Mobile No was awarded a å£2000 Bon...\n",
       "60      Back 2 work 2morro half term over Can U C me 2...\n",
       "61      Sunshine Quiz Wkly Q Win a top Sony DVD player...\n",
       "64      Valentines Day Special Win over å£1000 in our ...\n",
       "68      FREE2DAY sexy St Georges Day pic of JordanTxt ...\n",
       "71      Congrats Nokia 3650 video camera phone is your...\n",
       "72      Hard LIVE 121 chat just 60pmin. Choose your gi...\n",
       "80               You have 1 new message. Call 02070836089\n",
       "82      complimentary 4 STAR Ibiza Holiday or å£10000 ...\n",
       "85      YOU VE WON Your 4 Costa Del Sol Holiday or å£5...\n",
       "89      Show ur colours Euro 2004 241 Offer Get an Eng...\n",
       "94      Camera  You are awarded a SiPix Digital Camera...\n",
       "95      HMV BONUS SPECIAL 500 pounds of genuine HMV vo...\n",
       "101     Customer service announcement. We recently tri...\n",
       "105     For ur chance to win a å£250 cash every wk TXT...\n",
       "106     83039 62735=å£450 UK Break AccommodationVouche...\n",
       "107     Can U get 2 phone NOW I wanna chat 2 set up me...\n",
       "117     Call Germany for only 1 pence per minute Call ...\n",
       "119     Please call our customer service representativ...\n",
       "123     Send a logo 2 ur lover  2 names joined by a he...\n",
       "129     Do you want a NEW video phone750 anytime any n...\n",
       "140     HOT LIVE FANTASIES call now 08707509020 Just 2...\n",
       "145     Loan for any purpose å£500  å£75000. Homeowner...\n",
       "146     You have 1 new voicemail. Please call 08719181...\n",
       "                              ...                        \n",
       "1238    <Forwarded from 21870000>Hi  this is your Mail...\n",
       "1240    We tried to call you re your reply to our sms ...\n",
       "1241    Ur cashbalance is currently 500 pounds  to max...\n",
       "1252    Refused a loan Secured or Unsecured Cant get c...\n",
       "1268    YOU ARE CHOSEN TO RECEIVE A å£350 AWARD Pls ca...\n",
       "1285    Do you want a New Nokia 3510i Colour Phone Del...\n",
       "1286    Call Germany for only 1 pence per minute Call ...\n",
       "1291    As a SIM subscriber you are selected to receiv...\n",
       "1293    ROMCAPspam Everyone around should be respondin...\n",
       "1296    FreeMsg Hey U i just got 1 of these videopic f...\n",
       "1299    Bored housewives Chat n date now 0871750.77.11...\n",
       "1302    WINNER As a valued network customer you hvae b...\n",
       "1305    Congratulations YOUVE Won. Youre a Winner in o...\n",
       "1308    Ringtone Club Get the UK singles cha on your m...\n",
       "1310    You are awarded a SiPix Digital Camera call 09...\n",
       "1314    18 days to Euro2004 kickoff U will be kept inf...\n",
       "1321    HOT LIVE FANTASIES call now 08707509020 Just 2...\n",
       "1322    Adult 18 Content Your video will be with you s...\n",
       "1325    URGENT We are trying to contact U. Todays draw...\n",
       "1334     100 dating service call 09064012103 box334sk38ch\n",
       "1339    Sunshine Hols. To claim ur med holiday send a ...\n",
       "1341    GENT We are trying to contact you. Last weeken...\n",
       "1344    Urgent UR awarded a complimentary trip to Euro...\n",
       "1354    Urgent Please call 09066612661 from your landl...\n",
       "1361    URGENT This is our 2nd attempt to contact U. Y...\n",
       "1366    Thank you winner notified by sms. Good Luck No...\n",
       "1378    Do you want a New Nokia 3510i Colour Phone Del...\n",
       "1380    Congrats 1 year special cinema pass for 2 is y...\n",
       "1385    Had your mobile 11mths  Update for FREE to Ora...\n",
       "1386    Thanks for your ringtone order ref number R836...\n",
       "Name: Email, Length: 222, dtype: object"
      ]
     },
     "execution_count": 115,
     "metadata": {},
     "output_type": "execute_result"
    }
   ],
   "source": [
    "d_ham =dfTest[dfTest.Class == 'ham']\n",
    "d_spam =dfTest[dfTest.Class == 'spam']\n",
    "d_ham.Email"
   ]
  },
  {
   "cell_type": "code",
   "execution_count": 133,
   "metadata": {},
   "outputs": [
    {
     "data": {
      "text/plain": [
       "379"
      ]
     },
     "execution_count": 133,
     "metadata": {},
     "output_type": "execute_result"
    }
   ],
   "source": [
    "lista_ham = np.sum(d_ham.Email+ \" \").split()\n",
    "vh= pd.Series(lista_ham)\n",
    "lista_ham.count('to')"
   ]
  },
  {
   "cell_type": "code",
   "execution_count": 113,
   "metadata": {},
   "outputs": [
    {
     "data": {
      "text/plain": [
       "184"
      ]
     },
     "execution_count": 113,
     "metadata": {},
     "output_type": "execute_result"
    }
   ],
   "source": [
    "lista_spam = np.sum(d_spam.Email + \" \").split()\n",
    "vs= pd.Series(lista_spam)\n",
    "vs.value_counts()\n",
    "lista_spam.count('to')"
   ]
  },
  {
   "cell_type": "code",
   "execution_count": 130,
   "metadata": {},
   "outputs": [
    {
     "data": {
      "text/plain": [
       "'Spam'"
      ]
     },
     "execution_count": 130,
     "metadata": {},
     "output_type": "execute_result"
    }
   ],
   "source": [
    "lsp= len(lista_spam)\n",
    "lha= len(lista_ham)\n",
    "x = \"Thanks for your subscription to Ringtone UK your mobile will be charged å£5/month Please confirm by replying YES or NO. If you reply NO you will not 0be charge\"\n",
    "def email(x):\n",
    "    sep=x.split(' ')\n",
    "    spams = []\n",
    "    hams = []\n",
    "    for i in range(len(sep)):\n",
    "        spams.append((lista_spam.count(sep[i])/lsp))\n",
    "        hams.append((lista_ham.count(sep[i])/lha))\n",
    "    pps = np.sum(spams)\n",
    "    pph = np.sum(hams)\n",
    "    if pph > pps:\n",
    "        return \"Ham\"\n",
    "    else:\n",
    "        return \"Spam\"\n",
    "email(x)"
   ]
  },
  {
   "cell_type": "markdown",
   "metadata": {},
   "source": [
    "___\n",
    "## 4. Curva ROC"
   ]
  },
  {
   "cell_type": "code",
   "execution_count": null,
   "metadata": {},
   "outputs": [],
   "source": []
  },
  {
   "cell_type": "code",
   "execution_count": null,
   "metadata": {
    "collapsed": true
   },
   "outputs": [],
   "source": []
  },
  {
   "cell_type": "code",
   "execution_count": null,
   "metadata": {
    "collapsed": true
   },
   "outputs": [],
   "source": []
  },
  {
   "cell_type": "markdown",
   "metadata": {},
   "source": [
    "___\n",
    "## 5. Qualidade do Classificador alterando a base de treinamento"
   ]
  },
  {
   "cell_type": "code",
   "execution_count": null,
   "metadata": {
    "collapsed": true
   },
   "outputs": [],
   "source": []
  },
  {
   "cell_type": "code",
   "execution_count": null,
   "metadata": {
    "collapsed": true
   },
   "outputs": [],
   "source": []
  },
  {
   "cell_type": "code",
   "execution_count": null,
   "metadata": {
    "collapsed": true
   },
   "outputs": [],
   "source": []
  },
  {
   "cell_type": "code",
   "execution_count": null,
   "metadata": {
    "collapsed": true
   },
   "outputs": [],
   "source": []
  }
 ],
 "metadata": {
  "anaconda-cloud": {},
  "kernelspec": {
   "display_name": "Python 3",
   "language": "python",
   "name": "python3"
  },
  "language_info": {
   "codemirror_mode": {
    "name": "ipython",
    "version": 3
   },
   "file_extension": ".py",
   "mimetype": "text/x-python",
   "name": "python",
   "nbconvert_exporter": "python",
   "pygments_lexer": "ipython3",
   "version": "3.6.0"
  }
 },
 "nbformat": 4,
 "nbformat_minor": 1
}
