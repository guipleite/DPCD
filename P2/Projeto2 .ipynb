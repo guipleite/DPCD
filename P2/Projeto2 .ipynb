{
 "cells": [
  {
   "cell_type": "markdown",
   "metadata": {},
   "source": [
    "___\n",
    "# Ciência dos Dados - PROJETO 2"
   ]
  },
  {
   "cell_type": "markdown",
   "metadata": {},
   "source": [
    "___\n",
    "## Guilherme Leite\n",
    "\n",
    "## Leonardo Neves\n",
    "\n",
    "___"
   ]
  },
  {
   "cell_type": "markdown",
   "metadata": {},
   "source": [
    "___\n",
    "\n",
    "## 1. Problema\n",
    "\n",
    "O Classificador Naive-Bayes, o qual se baseia no uso do teorema de Bayes, é largamente utilizado em filtros anti-spam de e-mails. O classificador permite calcular qual a probabilidade de uma mensagem ser SPAM considerando as palavras em seu conteúdo e, de forma complementar, permite calcular a probabilidade de uma mensagem ser HAM dada as palavras descritas na mensagem.\n",
    "\n",
    "Para realizar o MVP (minimum viable product) do projeto, você precisa programar uma versão do classificador que \"aprende\" o que é uma mensagem SPAM considerando uma base de treinamento e comparar o desempenho dos resultados com uma base de testes. \n"
   ]
  },
  {
   "cell_type": "markdown",
   "metadata": {},
   "source": [
    "___\n",
    "## 2. Separação da base de dados em Treinamento e Teste\n",
    "\n",
    "A base de dados deve ser separada em duas partes, aleatoriamente, considerando: \n",
    "    \n",
    "    75% dos dados para a parte Treinamento; e\n",
    "    25% dos dados para a parte Teste."
   ]
  },
  {
   "cell_type": "code",
   "execution_count": 1,
   "metadata": {
    "collapsed": true
   },
   "outputs": [],
   "source": [
    "import pandas as pd\n",
    "import os\n",
    "import numpy as np"
   ]
  },
  {
   "cell_type": "code",
   "execution_count": 2,
   "metadata": {},
   "outputs": [
    {
     "name": "stdout",
     "output_type": "stream",
     "text": [
      "Esperamos trabalhar no diretório\n",
      "C:\\Users\\Usuario\\Desktop\\Insper\\2018\\DPCD\\DPCD\\P2\n"
     ]
    }
   ],
   "source": [
    "print('Esperamos trabalhar no diretório')\n",
    "print(os.getcwd())"
   ]
  },
  {
   "cell_type": "code",
   "execution_count": 3,
   "metadata": {
    "collapsed": true
   },
   "outputs": [],
   "source": [
    "df = pd.read_excel('spamham.xlsx') #le o arquivo\n",
    "\n",
    "df = df.replace(',','',regex=True)\n",
    "df = df.replace('@','',regex=True)\n",
    "df = df.replace(';','',regex=True)\n",
    "df = df.replace('  ','',regex=True)\n",
    "df = df.replace(':','',regex=True)\n",
    "df = df.replace('\"','',regex=True)\n",
    "df = df.replace('\\\\*','',regex=True)\n",
    "df = df.replace('\\*','',regex=True)\n",
    "df = df.replace('_','',regex=True)\n",
    "df = df.replace('\\$','',regex=True)\n",
    "df = df.replace('rt','',regex=True)\n",
    "df = df.replace('//','',regex=True)\n",
    "df = df.replace('/','',regex=True)\n",
    "df = df.replace('#','',regex=True)\n",
    "df = df.replace('\\(','',regex=True)\n",
    "df = df.replace('\\)','',regex=True)\n",
    "df = df.replace('\\'','',regex=True)\n",
    "df = df.replace('\\?','',regex=True)\n",
    "df = df.replace('\\-','',regex=True)\n",
    "df = df.replace('!','',regex=True)\n",
    "\n",
    "df = df.sample(frac=1) #Deixa o df em uma ordem aleatoria\n",
    "\n",
    "L = len(df)\n",
    "Learn = int(L*0.75) #tamanho do df de treinamento\n",
    "Test = int(L*0.25) # tamenho do df de teste\n",
    "\n",
    "dfLearn = df.iloc[0:Learn] #df de treinamento\n",
    "dfLearn = dfLearn.reset_index(drop=True)\n",
    "\n",
    "dfTest = df.iloc[Learn:L] #df de teste\n",
    "dfTest = dfTest.reset_index(drop=True)\n"
   ]
  },
  {
   "cell_type": "code",
   "execution_count": null,
   "metadata": {
    "collapsed": true
   },
   "outputs": [],
   "source": []
  },
  {
   "cell_type": "code",
   "execution_count": 4,
   "metadata": {},
   "outputs": [],
   "source": [
    "Ham = []\n",
    "Spam =[]\n",
    "NSpam = 0\n",
    "\n",
    "for index, row in dfLearn.iterrows(): #Percorre o df linha por linha\n",
    "    if row['Class'] == 'spam':\n",
    "        linha = row['Email']\n",
    "        Linha = linha.split() #Separa as palavras do conteúdo do email\n",
    "        NSpam +=1 #Adiciona +1 ao numero de emails de Spam\n",
    "        for palavra in Linha:\n",
    "            Hm = []\n",
    "            for letra in palavra:  #Separa as letras das palavras\n",
    "                if letra.isalpha() == True: # Se a letrea é alfabética:\n",
    "                    Hm.append(letra) \n",
    "            hm  = ''.join(Hm) #Junta as letras em palavra\n",
    "            if len(hm)>1: # Filtra palavras com menos de duas Letras\n",
    "                Spam.append(hm)\n",
    "    else:\n",
    "        linha = str(row['Email'])\n",
    "        Linha = linha.split()  #Separa as palavras do conteúdo do email\n",
    "        for palavra in Linha:\n",
    "            Hm = []\n",
    "            for letra in palavra:\n",
    "                if letra.isalpha() == True: # Se a letrea é alfabética:\n",
    "                    Hm.append(letra)\n",
    "            hm  = ''.join(Hm) #Junta as letras em palavra\n",
    "            if len(hm)>1: # Filtra palavras com menos de duas Letras\n",
    "                Ham.append(hm)"
   ]
  },
  {
   "cell_type": "markdown",
   "metadata": {
    "collapsed": true
   },
   "source": []
  },
  {
   "cell_type": "markdown",
   "metadata": {},
   "source": [
    "___\n",
    "## 3. Classificador Naive-Bayes"
   ]
  },
  {
   "cell_type": "code",
   "execution_count": 5,
   "metadata": {},
   "outputs": [
    {
     "name": "stdout",
     "output_type": "stream",
     "text": [
      "Probabilidade de uma mensagem ser SPAM:  0.134688995215311 \n",
      "Probabilidade de uma mensagem ser HAM:  0.865311004784689\n"
     ]
    }
   ],
   "source": [
    "P_Spam = NSpam/len(dfLearn) #Probabilidade de uma mensagem ser SPAM \n",
    "P_Ham = 1-P_Spam #Probabilidade de uma mensagem ser HAM\n",
    "print('Probabilidade de uma mensagem ser SPAM: ',P_Spam, \n",
    "      '\\nProbabilidade de uma mensagem ser HAM: ',P_Ham)"
   ]
  },
  {
   "cell_type": "code",
   "execution_count": 6,
   "metadata": {},
   "outputs": [],
   "source": [
    "vs= pd.Series(Spam)\n",
    "vh= pd.Series(Ham)"
   ]
  },
  {
   "cell_type": "code",
   "execution_count": 15,
   "metadata": {},
   "outputs": [
    {
     "data": {
      "text/plain": [
       "'Spam'"
      ]
     },
     "execution_count": 15,
     "metadata": {},
     "output_type": "execute_result"
    }
   ],
   "source": [
    "lsp= len(Spam)\n",
    "lha= len(Ham)\n",
    "x = \"Thanks for your subscription to Ringtone UK your mobile will be charged å£5/month Please confirm by replying YES or NO. If you reply NO you will not 0be charge\"\n",
    "def email(x): #Classificador\n",
    "    sep=str(x).split(' ') #Separa o conteudo do email por palavras\n",
    "    spams = []\n",
    "    hams = []\n",
    "    for i in range(len(sep)):\n",
    "        spams.append((Spam.count(sep[i])/lsp)) #adicona a lista da palavra ser Spam\n",
    "        hams.append((Ham.count(sep[i])/lha))  #adicona a lista da palavra ser Ham\n",
    "    pps = np.sum(spams) #soma as probabilidades\n",
    "    pph = np.sum(hams)\n",
    "    if pph > pps:  #compara as probabilidades dando uma maior ponderação para o ham\n",
    "        return \"Ham\"\n",
    "    else:\n",
    "        return \"Spam\"\n",
    "email(x)#Teste"
   ]
  },
  {
   "cell_type": "markdown",
   "metadata": {},
   "source": [
    "___\n",
    "## 5. Qualidade do Classificador alterando a base de treinamento"
   ]
  },
  {
   "cell_type": "code",
   "execution_count": 16,
   "metadata": {},
   "outputs": [],
   "source": [
    "for index, row in dfLearn.iterrows(): #Percorre o df linha por linha\n",
    "    if row['Class'] == 'spam':\n",
    "        linha = row['Email']\n",
    "        Linha = linha.split() #Separa as palavras do conteúdo do email\n",
    "        for palavra in Linha:\n",
    "            Hm = []\n",
    "            for letra in palavra:  #Separa as letras das palavras\n",
    "                if letra.isalpha() == True: # Se a letrea é alfabética:\n",
    "                    Hm.append(letra) \n",
    "            hm  = ''.join(Hm) #Junta as letras em palavra\n",
    "            if len(hm)>1: # Filtra palavras com menos de duas Letras\n",
    "                row['Email'] = hm\n",
    "    else:\n",
    "        linha = str(row['Email'])\n",
    "        Linha = linha.split()  #Separa as palavras do conteúdo do email\n",
    "        for palavra in Linha:\n",
    "            Hm = []\n",
    "            for letra in palavra:\n",
    "                if letra.isalpha() == True: # Se a letrea é alfabética:\n",
    "                    Hm.append(letra)\n",
    "            hm  = ''.join(Hm) #Junta as letras em palavra\n",
    "            if len(hm)>1: # Filtra palavras com menos de duas Letras\n",
    "                row['Email'] = hm"
   ]
  },
  {
   "cell_type": "code",
   "execution_count": 17,
   "metadata": {},
   "outputs": [],
   "source": [
    "falso_positivo = []\n",
    "positivo_verdadeiro = []\n",
    "falso_negativo = []\n",
    "negativo_verdadeiro = []\n",
    "\n",
    "H = 0\n",
    "S = 0\n",
    "for u in range(len(dfTest)):\n",
    "    x = dfTest.Email[u]\n",
    "    if dfTest.Class[u] == 'ham':\n",
    "        H+=1\n",
    "        Classifica = email(x)\n",
    "        if Classifica == 'Ham':\n",
    "            positivo_verdadeiro.append(\"pv\")\n",
    "        if Classifica == 'Spam' :\n",
    "            falso_positivo.append(\"fp\")\n",
    "            \n",
    "    elif dfTest.Class[u] == 'spam':\n",
    "        S+=1\n",
    "        if Classifica == 'Spam':\n",
    "            negativo_verdadeiro.append(\"nv\")\n",
    "        if Classifica == 'Ham' :\n",
    "            falso_negativo.append(\"fn\")\n"
   ]
  },
  {
   "cell_type": "code",
   "execution_count": 18,
   "metadata": {},
   "outputs": [
    {
     "name": "stdout",
     "output_type": "stream",
     "text": [
      "FP 23.242467718794835\n",
      "FN 8.464849354375897\n",
      "VP 63.55810616929699\n",
      "VN 4.734576757532281 \n",
      "\n",
      "FP/P 26.776859504132233\n",
      "FN/N 481.52173913043475\n",
      "VP/P 9.75206611570248\n",
      "VN/N 35.869565217391305\n"
     ]
    }
   ],
   "source": [
    "FP = len(falso_positivo)/len(dfTest)*100  #Porcentagens sobre o total\n",
    "PV = len(positivo_verdadeiro)/len(dfTest)*100  #Porcentagens sobre o total\n",
    "FN = len(falso_negativo)/len(dfTest)*100  #Porcentagens sobre o total\n",
    "NV = len(negativo_verdadeiro)/len(dfTest)*100  #Porcentagens sobre o total\n",
    "\n",
    "FPP = len(falso_positivo)/H*100         #Porcentagens sobre Positivos/Negativos\n",
    "FNN = len(positivo_verdadeiro)/S*100\n",
    "VPP = len(falso_negativo)/H*100\n",
    "VNN = len(negativo_verdadeiro)/S*100\n",
    "print(\"FP\",FP)\n",
    "print(\"FN\",FN)\n",
    "print(\"VP\",PV)\n",
    "print(\"VN\",NV,\"\\n\")\n",
    "\n",
    "print(\"FP/P\",FPP)\n",
    "print(\"FN/N\",FNN)\n",
    "print(\"VP/P\",VPP)\n",
    "print(\"VN/N\",VNN)"
   ]
  },
  {
   "cell_type": "markdown",
   "metadata": {},
   "source": [
    "Como é possível perceber pelos valores apontados acima, o classificador funcionou para a maioria dos casos, 62,63%, porem cerca de 24,68% das mensagens foram falsas positivas e 9,89% foram falsas negativas, no caso do filtro de spam, é ideal ocorrerem o menor número de falsas negativas uma vez que essas seriam mensagens poderiam ser importantes para o usuário, por essa motivo."
   ]
  },
  {
   "cell_type": "code",
   "execution_count": null,
   "metadata": {
    "collapsed": true
   },
   "outputs": [],
   "source": []
  }
 ],
 "metadata": {
  "anaconda-cloud": {},
  "kernelspec": {
   "display_name": "Python 3",
   "language": "python",
   "name": "python3"
  },
  "language_info": {
   "codemirror_mode": {
    "name": "ipython",
    "version": 3
   },
   "file_extension": ".py",
   "mimetype": "text/x-python",
   "name": "python",
   "nbconvert_exporter": "python",
   "pygments_lexer": "ipython3",
   "version": "3.6.0"
  }
 },
 "nbformat": 4,
 "nbformat_minor": 1
}
